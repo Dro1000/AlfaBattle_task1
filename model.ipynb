{
 "cells": [
  {
   "cell_type": "code",
   "execution_count": 27,
   "metadata": {},
   "outputs": [],
   "source": [
    "import os\n",
    "import pandas as pd\n",
    "import numpy as np\n",
    "\n",
    "from sklearn.metrics import f1_score, roc_auc_score, log_loss\n",
    "from sklearn.preprocessing import LabelEncoder\n",
    "\n",
    "import lightgbm as lgb\n"
   ]
  },
  {
   "cell_type": "code",
   "execution_count": 2,
   "metadata": {},
   "outputs": [],
   "source": [
    "files = ['clickstream/' + file for file in sorted(os.listdir('clickstream'))]"
   ]
  },
  {
   "cell_type": "code",
   "execution_count": 3,
   "metadata": {},
   "outputs": [],
   "source": [
    "def get_train_test(k=1, hist=10):\n",
    "    '''\n",
    "    Функция извлекает из таблицы data_for_model данные для тренировки. \n",
    "    train - список, который содержит последние hist сессий пользователя.\n",
    "    test - список, который содержит k-ое действие с конца для каждого пользователя. Нам нужно предсказать\n",
    "    действия пользователя для k = 1. Для валидации можно выбрать k = 2 (или больше).\n",
    "    '''\n",
    "    \n",
    "    \n",
    "    trains = []\n",
    "    tests = []\n",
    "    \n",
    "    target = target = pd.read_csv('data_for_model.csv', nrows=1000000 - 1)\n",
    "    cols_to_drop = ['session_id', 'client_pin', 'timestamp', 'multi_class_target', \n",
    "               'prev_session', 'num', 'session_id_y', 'client_y'] + ['ohe_' + str(i) for i in range(10)]\n",
    "    \n",
    "    columns = target.columns\n",
    "    \n",
    "    train_inds = (target.num >= k) & (target.num <= k + hist)\n",
    "    test_inds = (target.num == k - 1)\n",
    "\n",
    "    X_train = target[train_inds]\n",
    "    y_train = target[train_inds]['multi_class_target']\n",
    "\n",
    "    X_test = target[test_inds]\n",
    "    y_test = target[test_inds]['multi_class_target']\n",
    "    \n",
    "    del target\n",
    "    \n",
    "    trains.append((X_train, y_train))\n",
    "    tests.append((X_test, y_test))\n",
    "    \n",
    "    for i in range(1, 6):\n",
    "        print(i)\n",
    "        target = pd.read_csv('data_for_model.csv', nrows=10 ** 6, skiprows= i * 10 ** 6, header=None)\n",
    "        \n",
    "        target.columns = columns\n",
    "        \n",
    "        train_inds = (target.num >= k) & (target.num <= k + hist)\n",
    "        test_inds = (target.num == k - 1)\n",
    "\n",
    "        X_train = target[train_inds]\n",
    "        y_train = target[train_inds]['multi_class_target']\n",
    "\n",
    "        X_test = target[test_inds]\n",
    "        y_test = target[test_inds]['multi_class_target']\n",
    "\n",
    "        trains.append((X_train, y_train))\n",
    "        tests.append((X_test, y_test))\n",
    "        \n",
    "        del target\n",
    "        \n",
    "    return trains, tests"
   ]
  },
  {
   "cell_type": "code",
   "execution_count": 4,
   "metadata": {},
   "outputs": [
    {
     "name": "stdout",
     "output_type": "stream",
     "text": [
      "1\n",
      "2\n",
      "3\n",
      "4\n",
      "5\n"
     ]
    }
   ],
   "source": [
    "trains, tests = get_train_test(k=2, hist=10)"
   ]
  },
  {
   "cell_type": "code",
   "execution_count": 5,
   "metadata": {},
   "outputs": [],
   "source": [
    "X_train = pd.concat([x[0] for x in trains])\n",
    "y_train = pd.concat([x[1] for x in trains])"
   ]
  },
  {
   "cell_type": "code",
   "execution_count": 6,
   "metadata": {},
   "outputs": [
    {
     "data": {
      "text/plain": [
       "(769204, 108)"
      ]
     },
     "execution_count": 6,
     "metadata": {},
     "output_type": "execute_result"
    }
   ],
   "source": [
    "X_train.shape"
   ]
  },
  {
   "cell_type": "code",
   "execution_count": 7,
   "metadata": {},
   "outputs": [],
   "source": [
    "X_test = pd.concat([x[0] for x in tests])\n",
    "y_test = pd.concat([x[1] for x in tests])"
   ]
  },
  {
   "cell_type": "code",
   "execution_count": 8,
   "metadata": {},
   "outputs": [
    {
     "name": "stdout",
     "output_type": "stream",
     "text": [
      "clickstream/part-00000.parquet\n",
      "clickstream/part-00001.parquet\n",
      "clickstream/part-00002.parquet\n",
      "clickstream/part-00003.parquet\n",
      "clickstream/part-00004.parquet\n",
      "clickstream/part-00005.parquet\n",
      "clickstream/part-00006.parquet\n",
      "clickstream/part-00007.parquet\n",
      "clickstream/part-00008.parquet\n",
      "clickstream/part-00009.parquet\n"
     ]
    }
   ],
   "source": [
    "# Собираем паркетные данные и мержим с исходными\n",
    "cs_data = []\n",
    "\n",
    "valid_sessions = pd.concat([X_train.session_id, X_test.session_id])\n",
    "\n",
    "for file in files:\n",
    "    \n",
    "    temp = pd.read_csv(\"Datasets/\" + file.split('/')[1])\n",
    "    temp = temp[temp['session_id_y'].isin(valid_sessions)]\n",
    "    \n",
    "    cs_data.append(temp)\n",
    "    del temp\n",
    "    \n",
    "    print(file)"
   ]
  },
  {
   "cell_type": "code",
   "execution_count": 9,
   "metadata": {},
   "outputs": [],
   "source": [
    "X_train = pd.merge(X_train, pd.concat(cs_data), \n",
    "                                how='left', left_on='session_id', right_on='session_id_y')"
   ]
  },
  {
   "cell_type": "code",
   "execution_count": 10,
   "metadata": {},
   "outputs": [],
   "source": [
    "X_test = pd.merge(X_test, pd.concat(cs_data), \n",
    "                                how='left', left_on='session_id', right_on='session_id_y')"
   ]
  },
  {
   "cell_type": "code",
   "execution_count": 11,
   "metadata": {},
   "outputs": [],
   "source": [
    "# Кодируем часовые пояса\n",
    "\n",
    "tz_map = X_train['timezone'].value_counts().to_dict()"
   ]
  },
  {
   "cell_type": "code",
   "execution_count": 12,
   "metadata": {},
   "outputs": [],
   "source": [
    "X_train['tz_int']  = X_train['timezone'].map(tz_map)\n",
    "X_test['tz_int'] = X_train['timezone'].map(tz_map)"
   ]
  },
  {
   "cell_type": "code",
   "execution_count": 13,
   "metadata": {},
   "outputs": [],
   "source": [
    "cols_to_drop = ['session_id', 'client_pin', 'timestamp_x', 'multi_class_target', \n",
    "                'mobile', 'prev_session','prev_session1', 'num', 'session_id_y', \n",
    "                'timestamp_y', 'client', 'timezone', 'tz_int'] + ['ohe_' + str(i) for i in range(10)]"
   ]
  },
  {
   "cell_type": "code",
   "execution_count": 14,
   "metadata": {},
   "outputs": [],
   "source": [
    "X_train = X_train.drop(columns=cols_to_drop)\n",
    "X_test = X_test.drop(columns=cols_to_drop)"
   ]
  },
  {
   "cell_type": "code",
   "execution_count": 15,
   "metadata": {},
   "outputs": [],
   "source": [
    "def eval_metric(y_true, y_pred):\n",
    "    return 'eval', f1_score(y_true, y_pred.reshape(10, -1).argmax(axis=0), average='macro'), False"
   ]
  },
  {
   "cell_type": "code",
   "execution_count": 16,
   "metadata": {},
   "outputs": [],
   "source": [
    "# Веса для таргетов\n",
    "weights = (1 / (y_train.value_counts() / len(y_train) + 0.2) ).to_dict()"
   ]
  },
  {
   "cell_type": "code",
   "execution_count": 17,
   "metadata": {},
   "outputs": [
    {
     "data": {
      "text/plain": [
       "{5: 1.574673357287678,\n",
       " 9: 2.796233029840144,\n",
       " 3: 2.994866859159448,\n",
       " 2: 3.984918312707741,\n",
       " 8: 4.005753423516129,\n",
       " 6: 4.071288461884533,\n",
       " 7: 4.088991993229702,\n",
       " 1: 4.194366316992548,\n",
       " 0: 4.262443699684363,\n",
       " 4: 4.7703520317922585}"
      ]
     },
     "execution_count": 17,
     "metadata": {},
     "output_type": "execute_result"
    }
   ],
   "source": [
    "weights"
   ]
  },
  {
   "cell_type": "code",
   "execution_count": 18,
   "metadata": {},
   "outputs": [],
   "source": [
    "weights[3] = 1.8\n",
    "weights[5] = 1.6\n",
    "weights[9] = 2.9\n",
    "weights[1] = 3\n",
    "weights[7] = 3\n",
    "weights[2] = 4.5\n",
    "weights[8] = 4.1"
   ]
  },
  {
   "cell_type": "code",
   "execution_count": 19,
   "metadata": {
    "scrolled": true
   },
   "outputs": [
    {
     "name": "stdout",
     "output_type": "stream",
     "text": [
      "[1]\tvalid_0's multi_logloss: 1.81098\tvalid_0's eval: 0.0601297\n",
      "[2]\tvalid_0's multi_logloss: 1.76419\tvalid_0's eval: 0.0601297\n",
      "[3]\tvalid_0's multi_logloss: 1.72464\tvalid_0's eval: 0.071903\n",
      "[4]\tvalid_0's multi_logloss: 1.69059\tvalid_0's eval: 0.0944657\n",
      "[5]\tvalid_0's multi_logloss: 1.66062\tvalid_0's eval: 0.139286\n",
      "[6]\tvalid_0's multi_logloss: 1.63412\tvalid_0's eval: 0.191751\n",
      "[7]\tvalid_0's multi_logloss: 1.61048\tvalid_0's eval: 0.232293\n",
      "[8]\tvalid_0's multi_logloss: 1.58917\tvalid_0's eval: 0.266197\n",
      "[9]\tvalid_0's multi_logloss: 1.5699\tvalid_0's eval: 0.295501\n",
      "[10]\tvalid_0's multi_logloss: 1.5525\tvalid_0's eval: 0.318687\n",
      "[11]\tvalid_0's multi_logloss: 1.53662\tvalid_0's eval: 0.336288\n",
      "[12]\tvalid_0's multi_logloss: 1.52205\tvalid_0's eval: 0.350165\n",
      "[13]\tvalid_0's multi_logloss: 1.50879\tvalid_0's eval: 0.359615\n",
      "[14]\tvalid_0's multi_logloss: 1.49668\tvalid_0's eval: 0.368543\n",
      "[15]\tvalid_0's multi_logloss: 1.48543\tvalid_0's eval: 0.377874\n",
      "[16]\tvalid_0's multi_logloss: 1.47511\tvalid_0's eval: 0.383476\n",
      "[17]\tvalid_0's multi_logloss: 1.46561\tvalid_0's eval: 0.388185\n",
      "[18]\tvalid_0's multi_logloss: 1.45686\tvalid_0's eval: 0.392474\n",
      "[19]\tvalid_0's multi_logloss: 1.44875\tvalid_0's eval: 0.395712\n",
      "[20]\tvalid_0's multi_logloss: 1.44134\tvalid_0's eval: 0.39902\n",
      "[21]\tvalid_0's multi_logloss: 1.43452\tvalid_0's eval: 0.401453\n",
      "[22]\tvalid_0's multi_logloss: 1.42817\tvalid_0's eval: 0.402979\n",
      "[23]\tvalid_0's multi_logloss: 1.42223\tvalid_0's eval: 0.40441\n",
      "[24]\tvalid_0's multi_logloss: 1.41675\tvalid_0's eval: 0.405707\n",
      "[25]\tvalid_0's multi_logloss: 1.41168\tvalid_0's eval: 0.407026\n",
      "[26]\tvalid_0's multi_logloss: 1.40694\tvalid_0's eval: 0.408188\n",
      "[27]\tvalid_0's multi_logloss: 1.40248\tvalid_0's eval: 0.409128\n",
      "[28]\tvalid_0's multi_logloss: 1.39837\tvalid_0's eval: 0.410002\n",
      "[29]\tvalid_0's multi_logloss: 1.39449\tvalid_0's eval: 0.410456\n",
      "[30]\tvalid_0's multi_logloss: 1.39097\tvalid_0's eval: 0.411301\n",
      "[31]\tvalid_0's multi_logloss: 1.38765\tvalid_0's eval: 0.412011\n",
      "[32]\tvalid_0's multi_logloss: 1.38461\tvalid_0's eval: 0.412422\n",
      "[33]\tvalid_0's multi_logloss: 1.38174\tvalid_0's eval: 0.41275\n",
      "[34]\tvalid_0's multi_logloss: 1.3791\tvalid_0's eval: 0.413775\n",
      "[35]\tvalid_0's multi_logloss: 1.37657\tvalid_0's eval: 0.414567\n",
      "[36]\tvalid_0's multi_logloss: 1.37416\tvalid_0's eval: 0.414363\n",
      "[37]\tvalid_0's multi_logloss: 1.37196\tvalid_0's eval: 0.414482\n",
      "[38]\tvalid_0's multi_logloss: 1.36991\tvalid_0's eval: 0.414947\n",
      "[39]\tvalid_0's multi_logloss: 1.36797\tvalid_0's eval: 0.41507\n",
      "[40]\tvalid_0's multi_logloss: 1.3662\tvalid_0's eval: 0.415311\n",
      "[41]\tvalid_0's multi_logloss: 1.36453\tvalid_0's eval: 0.415235\n",
      "[42]\tvalid_0's multi_logloss: 1.36288\tvalid_0's eval: 0.415689\n",
      "[43]\tvalid_0's multi_logloss: 1.36142\tvalid_0's eval: 0.416136\n",
      "[44]\tvalid_0's multi_logloss: 1.35996\tvalid_0's eval: 0.416052\n",
      "[45]\tvalid_0's multi_logloss: 1.35861\tvalid_0's eval: 0.416172\n",
      "[46]\tvalid_0's multi_logloss: 1.3574\tvalid_0's eval: 0.416925\n",
      "[47]\tvalid_0's multi_logloss: 1.35621\tvalid_0's eval: 0.41736\n",
      "[48]\tvalid_0's multi_logloss: 1.3551\tvalid_0's eval: 0.417782\n",
      "[49]\tvalid_0's multi_logloss: 1.35405\tvalid_0's eval: 0.417595\n",
      "[50]\tvalid_0's multi_logloss: 1.35311\tvalid_0's eval: 0.417747\n",
      "[51]\tvalid_0's multi_logloss: 1.35224\tvalid_0's eval: 0.418017\n",
      "[52]\tvalid_0's multi_logloss: 1.35143\tvalid_0's eval: 0.417985\n",
      "[53]\tvalid_0's multi_logloss: 1.35058\tvalid_0's eval: 0.418207\n",
      "[54]\tvalid_0's multi_logloss: 1.34984\tvalid_0's eval: 0.418312\n",
      "[55]\tvalid_0's multi_logloss: 1.34909\tvalid_0's eval: 0.418349\n",
      "[56]\tvalid_0's multi_logloss: 1.34839\tvalid_0's eval: 0.418138\n",
      "[57]\tvalid_0's multi_logloss: 1.3477\tvalid_0's eval: 0.418328\n",
      "[58]\tvalid_0's multi_logloss: 1.34703\tvalid_0's eval: 0.41848\n",
      "[59]\tvalid_0's multi_logloss: 1.34647\tvalid_0's eval: 0.41845\n",
      "[60]\tvalid_0's multi_logloss: 1.34594\tvalid_0's eval: 0.418395\n",
      "[61]\tvalid_0's multi_logloss: 1.34535\tvalid_0's eval: 0.418477\n",
      "[62]\tvalid_0's multi_logloss: 1.34484\tvalid_0's eval: 0.418831\n",
      "[63]\tvalid_0's multi_logloss: 1.3444\tvalid_0's eval: 0.418842\n",
      "[64]\tvalid_0's multi_logloss: 1.34387\tvalid_0's eval: 0.41879\n",
      "[65]\tvalid_0's multi_logloss: 1.34343\tvalid_0's eval: 0.418848\n",
      "[66]\tvalid_0's multi_logloss: 1.34296\tvalid_0's eval: 0.418799\n",
      "[67]\tvalid_0's multi_logloss: 1.34257\tvalid_0's eval: 0.418857\n",
      "[68]\tvalid_0's multi_logloss: 1.34219\tvalid_0's eval: 0.41879\n",
      "[69]\tvalid_0's multi_logloss: 1.34185\tvalid_0's eval: 0.419025\n",
      "[70]\tvalid_0's multi_logloss: 1.34152\tvalid_0's eval: 0.419029\n",
      "[71]\tvalid_0's multi_logloss: 1.34115\tvalid_0's eval: 0.418916\n",
      "[72]\tvalid_0's multi_logloss: 1.34084\tvalid_0's eval: 0.418874\n",
      "[73]\tvalid_0's multi_logloss: 1.34051\tvalid_0's eval: 0.418794\n",
      "[74]\tvalid_0's multi_logloss: 1.34022\tvalid_0's eval: 0.418906\n",
      "[75]\tvalid_0's multi_logloss: 1.33992\tvalid_0's eval: 0.419126\n",
      "[76]\tvalid_0's multi_logloss: 1.33958\tvalid_0's eval: 0.418912\n",
      "[77]\tvalid_0's multi_logloss: 1.33931\tvalid_0's eval: 0.418742\n",
      "[78]\tvalid_0's multi_logloss: 1.33907\tvalid_0's eval: 0.41877\n",
      "[79]\tvalid_0's multi_logloss: 1.33885\tvalid_0's eval: 0.419124\n",
      "[80]\tvalid_0's multi_logloss: 1.33865\tvalid_0's eval: 0.419013\n",
      "[81]\tvalid_0's multi_logloss: 1.33844\tvalid_0's eval: 0.41911\n",
      "[82]\tvalid_0's multi_logloss: 1.33825\tvalid_0's eval: 0.419249\n",
      "[83]\tvalid_0's multi_logloss: 1.33806\tvalid_0's eval: 0.419273\n",
      "[84]\tvalid_0's multi_logloss: 1.33782\tvalid_0's eval: 0.419326\n",
      "[85]\tvalid_0's multi_logloss: 1.3376\tvalid_0's eval: 0.41927\n",
      "[86]\tvalid_0's multi_logloss: 1.33745\tvalid_0's eval: 0.419337\n",
      "[87]\tvalid_0's multi_logloss: 1.33731\tvalid_0's eval: 0.419428\n",
      "[88]\tvalid_0's multi_logloss: 1.33714\tvalid_0's eval: 0.419382\n",
      "[89]\tvalid_0's multi_logloss: 1.33699\tvalid_0's eval: 0.419403\n",
      "[90]\tvalid_0's multi_logloss: 1.33683\tvalid_0's eval: 0.419303\n",
      "[91]\tvalid_0's multi_logloss: 1.33671\tvalid_0's eval: 0.419186\n",
      "[92]\tvalid_0's multi_logloss: 1.33657\tvalid_0's eval: 0.41933\n",
      "[93]\tvalid_0's multi_logloss: 1.33646\tvalid_0's eval: 0.419455\n",
      "[94]\tvalid_0's multi_logloss: 1.33636\tvalid_0's eval: 0.419301\n",
      "[95]\tvalid_0's multi_logloss: 1.3362\tvalid_0's eval: 0.419266\n",
      "[96]\tvalid_0's multi_logloss: 1.33605\tvalid_0's eval: 0.419059\n",
      "[97]\tvalid_0's multi_logloss: 1.33599\tvalid_0's eval: 0.419192\n",
      "[98]\tvalid_0's multi_logloss: 1.33587\tvalid_0's eval: 0.419303\n",
      "[99]\tvalid_0's multi_logloss: 1.33579\tvalid_0's eval: 0.419356\n",
      "[100]\tvalid_0's multi_logloss: 1.33573\tvalid_0's eval: 0.419425\n",
      "[101]\tvalid_0's multi_logloss: 1.33563\tvalid_0's eval: 0.419767\n",
      "[102]\tvalid_0's multi_logloss: 1.33551\tvalid_0's eval: 0.419776\n",
      "[103]\tvalid_0's multi_logloss: 1.33543\tvalid_0's eval: 0.419768\n",
      "[104]\tvalid_0's multi_logloss: 1.33529\tvalid_0's eval: 0.419883\n",
      "[105]\tvalid_0's multi_logloss: 1.33517\tvalid_0's eval: 0.420018\n",
      "[106]\tvalid_0's multi_logloss: 1.33513\tvalid_0's eval: 0.420033\n",
      "[107]\tvalid_0's multi_logloss: 1.33502\tvalid_0's eval: 0.41991\n",
      "[108]\tvalid_0's multi_logloss: 1.33494\tvalid_0's eval: 0.419998\n",
      "[109]\tvalid_0's multi_logloss: 1.33487\tvalid_0's eval: 0.419964\n",
      "[110]\tvalid_0's multi_logloss: 1.33479\tvalid_0's eval: 0.419982\n",
      "[111]\tvalid_0's multi_logloss: 1.33469\tvalid_0's eval: 0.42\n",
      "[112]\tvalid_0's multi_logloss: 1.3346\tvalid_0's eval: 0.419872\n",
      "[113]\tvalid_0's multi_logloss: 1.33455\tvalid_0's eval: 0.420076\n",
      "[114]\tvalid_0's multi_logloss: 1.3345\tvalid_0's eval: 0.420059\n",
      "[115]\tvalid_0's multi_logloss: 1.33448\tvalid_0's eval: 0.419997\n",
      "[116]\tvalid_0's multi_logloss: 1.33442\tvalid_0's eval: 0.42019\n",
      "[117]\tvalid_0's multi_logloss: 1.33438\tvalid_0's eval: 0.420286\n",
      "[118]\tvalid_0's multi_logloss: 1.33433\tvalid_0's eval: 0.420293\n",
      "[119]\tvalid_0's multi_logloss: 1.33428\tvalid_0's eval: 0.420382\n",
      "[120]\tvalid_0's multi_logloss: 1.33421\tvalid_0's eval: 0.420591\n",
      "[121]\tvalid_0's multi_logloss: 1.33416\tvalid_0's eval: 0.420437\n",
      "[122]\tvalid_0's multi_logloss: 1.33415\tvalid_0's eval: 0.420393\n",
      "[123]\tvalid_0's multi_logloss: 1.33409\tvalid_0's eval: 0.420428\n",
      "[124]\tvalid_0's multi_logloss: 1.33401\tvalid_0's eval: 0.420486\n",
      "[125]\tvalid_0's multi_logloss: 1.33396\tvalid_0's eval: 0.420379\n",
      "[126]\tvalid_0's multi_logloss: 1.33385\tvalid_0's eval: 0.420178\n",
      "[127]\tvalid_0's multi_logloss: 1.33381\tvalid_0's eval: 0.420322\n",
      "[128]\tvalid_0's multi_logloss: 1.33372\tvalid_0's eval: 0.42042\n",
      "[129]\tvalid_0's multi_logloss: 1.33366\tvalid_0's eval: 0.420318\n",
      "[130]\tvalid_0's multi_logloss: 1.3336\tvalid_0's eval: 0.420417\n",
      "[131]\tvalid_0's multi_logloss: 1.33355\tvalid_0's eval: 0.420544\n"
     ]
    },
    {
     "name": "stdout",
     "output_type": "stream",
     "text": [
      "[132]\tvalid_0's multi_logloss: 1.33353\tvalid_0's eval: 0.42037\n",
      "[133]\tvalid_0's multi_logloss: 1.33348\tvalid_0's eval: 0.42025\n",
      "[134]\tvalid_0's multi_logloss: 1.33343\tvalid_0's eval: 0.420194\n",
      "[135]\tvalid_0's multi_logloss: 1.33338\tvalid_0's eval: 0.42022\n",
      "[136]\tvalid_0's multi_logloss: 1.33333\tvalid_0's eval: 0.420359\n",
      "[137]\tvalid_0's multi_logloss: 1.33334\tvalid_0's eval: 0.4204\n",
      "[138]\tvalid_0's multi_logloss: 1.3333\tvalid_0's eval: 0.420486\n",
      "[139]\tvalid_0's multi_logloss: 1.33325\tvalid_0's eval: 0.420272\n",
      "[140]\tvalid_0's multi_logloss: 1.33322\tvalid_0's eval: 0.420247\n",
      "[141]\tvalid_0's multi_logloss: 1.33317\tvalid_0's eval: 0.420185\n",
      "[142]\tvalid_0's multi_logloss: 1.33311\tvalid_0's eval: 0.420224\n",
      "[143]\tvalid_0's multi_logloss: 1.33307\tvalid_0's eval: 0.419919\n",
      "[144]\tvalid_0's multi_logloss: 1.33302\tvalid_0's eval: 0.420032\n",
      "[145]\tvalid_0's multi_logloss: 1.33298\tvalid_0's eval: 0.420011\n",
      "[146]\tvalid_0's multi_logloss: 1.33294\tvalid_0's eval: 0.420152\n",
      "[147]\tvalid_0's multi_logloss: 1.33293\tvalid_0's eval: 0.420536\n",
      "[148]\tvalid_0's multi_logloss: 1.33286\tvalid_0's eval: 0.420572\n",
      "[149]\tvalid_0's multi_logloss: 1.33284\tvalid_0's eval: 0.420862\n",
      "[150]\tvalid_0's multi_logloss: 1.3328\tvalid_0's eval: 0.420618\n",
      "[151]\tvalid_0's multi_logloss: 1.33277\tvalid_0's eval: 0.420734\n",
      "[152]\tvalid_0's multi_logloss: 1.33277\tvalid_0's eval: 0.420694\n",
      "[153]\tvalid_0's multi_logloss: 1.33273\tvalid_0's eval: 0.420735\n",
      "[154]\tvalid_0's multi_logloss: 1.33269\tvalid_0's eval: 0.420699\n",
      "[155]\tvalid_0's multi_logloss: 1.33271\tvalid_0's eval: 0.4208\n",
      "[156]\tvalid_0's multi_logloss: 1.33269\tvalid_0's eval: 0.420564\n",
      "[157]\tvalid_0's multi_logloss: 1.33262\tvalid_0's eval: 0.420584\n",
      "[158]\tvalid_0's multi_logloss: 1.33256\tvalid_0's eval: 0.420544\n",
      "[159]\tvalid_0's multi_logloss: 1.33251\tvalid_0's eval: 0.420849\n",
      "[160]\tvalid_0's multi_logloss: 1.33247\tvalid_0's eval: 0.420728\n",
      "[161]\tvalid_0's multi_logloss: 1.33248\tvalid_0's eval: 0.42089\n",
      "[162]\tvalid_0's multi_logloss: 1.33244\tvalid_0's eval: 0.420915\n",
      "[163]\tvalid_0's multi_logloss: 1.33242\tvalid_0's eval: 0.420937\n",
      "[164]\tvalid_0's multi_logloss: 1.33236\tvalid_0's eval: 0.42117\n",
      "[165]\tvalid_0's multi_logloss: 1.33232\tvalid_0's eval: 0.421105\n",
      "[166]\tvalid_0's multi_logloss: 1.33225\tvalid_0's eval: 0.421002\n",
      "[167]\tvalid_0's multi_logloss: 1.33222\tvalid_0's eval: 0.420976\n",
      "[168]\tvalid_0's multi_logloss: 1.3322\tvalid_0's eval: 0.421052\n",
      "[169]\tvalid_0's multi_logloss: 1.3322\tvalid_0's eval: 0.421007\n",
      "[170]\tvalid_0's multi_logloss: 1.33218\tvalid_0's eval: 0.421092\n",
      "[171]\tvalid_0's multi_logloss: 1.33216\tvalid_0's eval: 0.421199\n",
      "[172]\tvalid_0's multi_logloss: 1.33217\tvalid_0's eval: 0.421317\n",
      "[173]\tvalid_0's multi_logloss: 1.33214\tvalid_0's eval: 0.42114\n",
      "[174]\tvalid_0's multi_logloss: 1.33217\tvalid_0's eval: 0.420917\n",
      "[175]\tvalid_0's multi_logloss: 1.33209\tvalid_0's eval: 0.42084\n",
      "[176]\tvalid_0's multi_logloss: 1.33207\tvalid_0's eval: 0.420793\n",
      "[177]\tvalid_0's multi_logloss: 1.33205\tvalid_0's eval: 0.420855\n",
      "[178]\tvalid_0's multi_logloss: 1.33202\tvalid_0's eval: 0.420775\n",
      "[179]\tvalid_0's multi_logloss: 1.33199\tvalid_0's eval: 0.420582\n",
      "[180]\tvalid_0's multi_logloss: 1.33198\tvalid_0's eval: 0.42076\n",
      "[181]\tvalid_0's multi_logloss: 1.33195\tvalid_0's eval: 0.421056\n",
      "[182]\tvalid_0's multi_logloss: 1.3319\tvalid_0's eval: 0.420979\n",
      "[183]\tvalid_0's multi_logloss: 1.33187\tvalid_0's eval: 0.42107\n",
      "[184]\tvalid_0's multi_logloss: 1.33182\tvalid_0's eval: 0.421127\n",
      "[185]\tvalid_0's multi_logloss: 1.33179\tvalid_0's eval: 0.421034\n",
      "[186]\tvalid_0's multi_logloss: 1.33178\tvalid_0's eval: 0.421128\n",
      "[187]\tvalid_0's multi_logloss: 1.33171\tvalid_0's eval: 0.421053\n",
      "[188]\tvalid_0's multi_logloss: 1.3317\tvalid_0's eval: 0.421065\n",
      "[189]\tvalid_0's multi_logloss: 1.33164\tvalid_0's eval: 0.421097\n",
      "[190]\tvalid_0's multi_logloss: 1.33158\tvalid_0's eval: 0.421137\n",
      "[191]\tvalid_0's multi_logloss: 1.33157\tvalid_0's eval: 0.420974\n",
      "[192]\tvalid_0's multi_logloss: 1.33153\tvalid_0's eval: 0.421125\n",
      "[193]\tvalid_0's multi_logloss: 1.3315\tvalid_0's eval: 0.421122\n",
      "[194]\tvalid_0's multi_logloss: 1.33145\tvalid_0's eval: 0.420995\n",
      "[195]\tvalid_0's multi_logloss: 1.33146\tvalid_0's eval: 0.421087\n",
      "[196]\tvalid_0's multi_logloss: 1.33142\tvalid_0's eval: 0.421263\n",
      "[197]\tvalid_0's multi_logloss: 1.33136\tvalid_0's eval: 0.421281\n",
      "[198]\tvalid_0's multi_logloss: 1.33134\tvalid_0's eval: 0.421148\n",
      "[199]\tvalid_0's multi_logloss: 1.33136\tvalid_0's eval: 0.421098\n",
      "[200]\tvalid_0's multi_logloss: 1.33136\tvalid_0's eval: 0.421354\n"
     ]
    },
    {
     "data": {
      "text/plain": [
       "LGBMClassifier(boosting_type='gbdt',\n",
       "               class_weight={0: 4.262443699684363, 1: 3, 2: 4.5, 3: 1.8,\n",
       "                             4: 4.7703520317922585, 5: 1.6,\n",
       "                             6: 4.071288461884533, 7: 3, 8: 4.1, 9: 2.9},\n",
       "               colsample_bytree=1.0, importance_type='split',\n",
       "               learning_rate=0.07, max_depth=6, min_child_samples=20,\n",
       "               min_child_weight=0.001, min_split_gain=0.0, n_estimators=200,\n",
       "               n_jobs=-1, num_leaves=50, objective=None, random_state=59,\n",
       "               reg_alpha=0.0, reg_lambda=0.0, silent=True, subsample=0.7,\n",
       "               subsample_for_bin=200000, subsample_freq=1)"
      ]
     },
     "execution_count": 19,
     "metadata": {},
     "output_type": "execute_result"
    }
   ],
   "source": [
    "cols_to_drop = []\n",
    "\n",
    "clf = lgb.LGBMClassifier(max_depth=6,\n",
    "                         num_leaves=50,\n",
    "                         n_estimators=200, \n",
    "                         learning_rate=0.07, \n",
    "                         random_state=50, \n",
    "                         subsample=0.7, \n",
    "                         subsample_freq=1,\n",
    "                         class_weight = weights)\n",
    "clf.fit(X_train.values, y_train, \n",
    "        eval_set=(X_test.values, y_test), \n",
    "        eval_metric=eval_metric)"
   ]
  },
  {
   "cell_type": "code",
   "execution_count": 20,
   "metadata": {},
   "outputs": [],
   "source": [
    "train_pred = clf.predict(X_train.values)\n",
    "test_pred = clf.predict(X_test.values)\n"
   ]
  },
  {
   "cell_type": "code",
   "execution_count": 21,
   "metadata": {},
   "outputs": [
    {
     "name": "stdout",
     "output_type": "stream",
     "text": [
      "train score:  0.4562190097556729\n",
      "test score:  0.42135370599832367\n"
     ]
    }
   ],
   "source": [
    "print(\"train score: \", f1_score(y_train, train_pred, average='macro'))\n",
    "print('test score: ', f1_score(y_test, test_pred, average='macro'))"
   ]
  },
  {
   "cell_type": "code",
   "execution_count": 22,
   "metadata": {},
   "outputs": [
    {
     "name": "stdout",
     "output_type": "stream",
     "text": [
      "1\n",
      "2\n",
      "3\n",
      "4\n",
      "5\n"
     ]
    }
   ],
   "source": [
    "_, tests = get_train_test(k=1, hist=10)"
   ]
  },
  {
   "cell_type": "code",
   "execution_count": 23,
   "metadata": {},
   "outputs": [],
   "source": [
    "test = pd.concat([x[0] for x in tests])"
   ]
  },
  {
   "cell_type": "code",
   "execution_count": 24,
   "metadata": {},
   "outputs": [],
   "source": [
    "# Готовим submission файл"
   ]
  },
  {
   "cell_type": "code",
   "execution_count": 25,
   "metadata": {},
   "outputs": [],
   "source": [
    "preds = pd.DataFrame({\"preds\": test_pred, \n",
    "                      \"client_pin\": test['client_pin'].values})"
   ]
  },
  {
   "cell_type": "code",
   "execution_count": 28,
   "metadata": {},
   "outputs": [],
   "source": [
    "enc = LabelEncoder()\n",
    "enc.classes_ = np.array(['card2card_transfer', 'card_recharge', 'chat', 'credit_info',\n",
    "       'invest', 'main_screen', 'mobile_recharge', 'own_transfer',\n",
    "       'phone_money_transfer', 'statement'])"
   ]
  },
  {
   "cell_type": "code",
   "execution_count": 29,
   "metadata": {},
   "outputs": [],
   "source": [
    "preds.preds = enc.inverse_transform(preds.preds)"
   ]
  },
  {
   "cell_type": "code",
   "execution_count": 30,
   "metadata": {},
   "outputs": [],
   "source": [
    "sample_submission = pd.read_csv('alfabattle2_abattle_sample_prediction.csv')\n",
    "pred_ts = pd.read_csv('alfabattle2_prediction_session_timestamp.csv')"
   ]
  },
  {
   "cell_type": "code",
   "execution_count": 31,
   "metadata": {},
   "outputs": [],
   "source": [
    "subm = pd.merge(sample_submission, preds, on='client_pin', how='inner')"
   ]
  },
  {
   "cell_type": "code",
   "execution_count": 32,
   "metadata": {},
   "outputs": [],
   "source": [
    "subm = subm.drop(columns='prediction')"
   ]
  },
  {
   "cell_type": "code",
   "execution_count": 33,
   "metadata": {},
   "outputs": [],
   "source": [
    "subm.columns = ['client_pin', 'prediction']"
   ]
  },
  {
   "cell_type": "code",
   "execution_count": 34,
   "metadata": {},
   "outputs": [],
   "source": [
    "subm.to_csv(\"subm.csv\", index=False)"
   ]
  }
 ],
 "metadata": {
  "kernelspec": {
   "display_name": "Python 3",
   "language": "python",
   "name": "python3"
  },
  "language_info": {
   "codemirror_mode": {
    "name": "ipython",
    "version": 3
   },
   "file_extension": ".py",
   "mimetype": "text/x-python",
   "name": "python",
   "nbconvert_exporter": "python",
   "pygments_lexer": "ipython3",
   "version": "3.7.6"
  }
 },
 "nbformat": 4,
 "nbformat_minor": 4
}
