{
 "cells": [
  {
   "cell_type": "code",
   "execution_count": 1,
   "metadata": {},
   "outputs": [],
   "source": [
    "import os\n",
    "import pandas as pd\n",
    "import numpy as np\n",
    "\n",
    "from sklearn.metrics import f1_score, roc_auc_score, log_loss\n",
    "from sklearn.ensemble import RandomForestClassifier\n",
    "from sklearn.preprocessing import LabelEncoder, OneHotEncoder\n",
    "from sklearn.inspection import permutation_importance\n",
    "from sklearn.ensemble import StackingClassifier\n",
    "from sklearn.linear_model import LogisticRegression\n",
    "from sklearn.tree import DecisionTreeClassifier\n",
    "\n",
    "import matplotlib.pyplot as plt\n",
    "import seaborn as sns\n",
    "from tqdm import tqdm\n",
    "\n",
    "import lightgbm as lgb\n",
    "import time\n",
    "\n",
    "import scipy.stats as sps\n",
    "\n",
    "import gc\n",
    "import time"
   ]
  },
  {
   "cell_type": "code",
   "execution_count": 2,
   "metadata": {},
   "outputs": [],
   "source": [
    "start_time = time.time()"
   ]
  },
  {
   "cell_type": "code",
   "execution_count": 3,
   "metadata": {},
   "outputs": [],
   "source": [
    "files = ['Datasets/' + file for file in sorted(os.listdir('Datasets'))]"
   ]
  },
  {
   "cell_type": "code",
   "execution_count": 4,
   "metadata": {},
   "outputs": [],
   "source": [
    "target = pd.read_csv('alfabattle2_abattle_train_target.csv')\n",
    "sample_submission = pd.read_csv('alfabattle2_abattle_sample_prediction.csv')\n",
    "pred_ts = pd.read_csv('alfabattle2_prediction_session_timestamp.csv')"
   ]
  },
  {
   "cell_type": "code",
   "execution_count": 5,
   "metadata": {},
   "outputs": [],
   "source": [
    "to_pred = pd.merge(sample_submission, pred_ts)\n",
    "to_pred.columns = ['client_pin', 'multi_class_target', 'timestamp']\n",
    "to_pred['session_id'] = np.arange(len(to_pred))"
   ]
  },
  {
   "cell_type": "code",
   "execution_count": 6,
   "metadata": {},
   "outputs": [],
   "source": [
    "target = pd.concat([target, to_pred])"
   ]
  },
  {
   "cell_type": "code",
   "execution_count": 7,
   "metadata": {},
   "outputs": [],
   "source": [
    "target.sort_values(['client_pin', 'timestamp'], inplace=True)\n",
    "target['timestamp'] = pd.to_datetime(target['timestamp'])\n"
   ]
  },
  {
   "cell_type": "code",
   "execution_count": 8,
   "metadata": {},
   "outputs": [],
   "source": [
    "enc = LabelEncoder()\n",
    "target['multi_class_target'] = enc.fit_transform(target['multi_class_target'])"
   ]
  },
  {
   "cell_type": "code",
   "execution_count": 9,
   "metadata": {},
   "outputs": [
    {
     "data": {
      "text/plain": [
       "array(['card2card_transfer', 'card_recharge', 'chat', 'credit_info',\n",
       "       'invest', 'main_screen', 'mobile_recharge', 'own_transfer',\n",
       "       'phone_money_transfer', 'statement'], dtype=object)"
      ]
     },
     "execution_count": 9,
     "metadata": {},
     "output_type": "execute_result"
    }
   ],
   "source": [
    "enc.classes_"
   ]
  },
  {
   "cell_type": "code",
   "execution_count": 10,
   "metadata": {},
   "outputs": [],
   "source": [
    "target_names = target['multi_class_target'].unique()"
   ]
  },
  {
   "cell_type": "code",
   "execution_count": 11,
   "metadata": {},
   "outputs": [],
   "source": [
    "target['num'] = target.groupby('client_pin')['timestamp'].transform(lambda x: np.arange(len(x))[::-1])"
   ]
  },
  {
   "cell_type": "code",
   "execution_count": 12,
   "metadata": {},
   "outputs": [],
   "source": [
    "target['num_rev'] = target.groupby('client_pin')['timestamp'].transform(lambda x: np.arange(len(x)))"
   ]
  },
  {
   "cell_type": "code",
   "execution_count": 13,
   "metadata": {},
   "outputs": [
    {
     "name": "stdout",
     "output_type": "stream",
     "text": [
      "9\n",
      "5\n",
      "6\n",
      "2\n",
      "4\n",
      "3\n",
      "1\n",
      "8\n",
      "0\n",
      "7\n"
     ]
    }
   ],
   "source": [
    "for name in target_names:\n",
    "    print(name)\n",
    "    name = str(name)\n",
    "    target.loc[:, 'last_' + name] = target['timestamp']\n",
    "    target.loc[target['multi_class_target'] != int(name), 'last_' + name] = None\n",
    "    \n",
    "    target['last_' + name] = target.groupby('client_pin')['last_' + name].fillna(method='ffill')\n",
    "    target['last_' + name] = target.groupby('client_pin')['last_' + name].shift()\n",
    "    \n",
    "    target['last_' + name] = target['timestamp'] - target['last_' + name]\n",
    "    target['last_' + name] = target['last_' + name].dt.total_seconds() / 3600 / 24\n",
    "    \n",
    "    target.loc[:, 'last_n_' + name] = np.arange(len(target))\n",
    "    target.loc[target['multi_class_target'] != int(name), 'last_n_' + name] = None\n",
    "    \n",
    "    target['last_n_' + name] = target.groupby('client_pin')['last_n_' + name].fillna(method='ffill')\n",
    "    target['last_n_' + name] = target.groupby('client_pin')['last_n_' + name].shift()\n",
    "    target['last_n_' + name] = np.arange(len(target)) - target['last_n_' + name]"
   ]
  },
  {
   "cell_type": "code",
   "execution_count": 14,
   "metadata": {},
   "outputs": [],
   "source": [
    "for i in range(1, 10):\n",
    "    target['prev_target' + str(i)] = target.groupby('client_pin')['multi_class_target'].shift(i)\n"
   ]
  },
  {
   "cell_type": "code",
   "execution_count": 15,
   "metadata": {},
   "outputs": [],
   "source": [
    "target['prev_session'] = target.groupby('client_pin')['session_id'].transform('shift')"
   ]
  },
  {
   "cell_type": "code",
   "execution_count": 16,
   "metadata": {},
   "outputs": [],
   "source": [
    "target['weekday'] = target.timestamp.dt.weekday\n",
    "target['hour'] = target.timestamp.dt.hour\n",
    "target['day'] = target.timestamp.dt.day"
   ]
  },
  {
   "cell_type": "code",
   "execution_count": 17,
   "metadata": {},
   "outputs": [],
   "source": [
    "target['from_last'] = target.groupby('client_pin')['timestamp'].diff().dt.total_seconds() / 3600\n",
    "\n",
    "for i in range(2, 10):\n",
    "    target['from_last' + str(i)] = target.groupby('client_pin')['from_last'].transform(\n",
    "        lambda x: x.rolling(i).sum())"
   ]
  },
  {
   "cell_type": "code",
   "execution_count": 18,
   "metadata": {},
   "outputs": [
    {
     "data": {
      "text/plain": [
       "OneHotEncoder(categories='auto', drop=None, dtype=<class 'numpy.float64'>,\n",
       "              handle_unknown='error', sparse=True)"
      ]
     },
     "execution_count": 18,
     "metadata": {},
     "output_type": "execute_result"
    }
   ],
   "source": [
    "ohe = OneHotEncoder()\n",
    "ohe.fit(target['prev_target1'].fillna(5).values.reshape(-1, 1))"
   ]
  },
  {
   "cell_type": "code",
   "execution_count": 19,
   "metadata": {},
   "outputs": [],
   "source": [
    "target = pd.concat([target, pd.DataFrame(\n",
    "            ohe.fit_transform(target['prev_target1'].fillna(5).values.reshape(-1, 1)).toarray(),\n",
    "            columns=['ohe_' + str(i) for i in range(10)], index=target.index)], axis=1)"
   ]
  },
  {
   "cell_type": "code",
   "execution_count": 20,
   "metadata": {},
   "outputs": [],
   "source": [
    "temp = target.groupby('client_pin')[['ohe_' + str(i) for i in range(10)]].cumsum()\n",
    "temp.columns = ['cs_' + str(i) for i in range(10)]\n",
    "\n",
    "temp = temp.div(temp.sum(axis=1), axis=0)\n",
    "\n",
    "target = pd.concat([target, temp], axis=1)\n",
    "del temp"
   ]
  },
  {
   "cell_type": "code",
   "execution_count": 21,
   "metadata": {},
   "outputs": [],
   "source": [
    "temp = target.groupby('client_pin')[['ohe_' + str(i) for i in range(10)]].apply(\n",
    "    lambda x: x.ewm(alpha=0.05).mean())\n",
    "temp.columns = ['cs_ewm_0.05' + str(i) for i in range(10)]\n",
    "\n",
    "\n",
    "target = pd.concat([target, temp], axis=1)\n",
    "del temp"
   ]
  },
  {
   "cell_type": "code",
   "execution_count": 22,
   "metadata": {},
   "outputs": [],
   "source": [
    "temp = target.groupby('client_pin')[['ohe_' + str(i) for i in range(10)]].apply(\n",
    "    lambda x: x.ewm(alpha=0.1).mean())\n",
    "temp.columns = ['cs_ewm_0.1' + str(i) for i in range(10)]\n",
    "\n",
    "\n",
    "target = pd.concat([target, temp], axis=1)\n",
    "del temp"
   ]
  },
  {
   "cell_type": "code",
   "execution_count": 23,
   "metadata": {},
   "outputs": [],
   "source": [
    "temp = target.groupby('client_pin')[['ohe_' + str(i) for i in range(10)]].apply(\n",
    "    lambda x: x.ewm(alpha=0.3).mean())\n",
    "temp.columns = ['cs_ewm_0.3' + str(i) for i in range(10)]\n",
    "\n",
    "\n",
    "target = pd.concat([target, temp], axis=1)\n",
    "del temp"
   ]
  },
  {
   "cell_type": "code",
   "execution_count": 24,
   "metadata": {},
   "outputs": [],
   "source": [
    "k, m = 2, 0"
   ]
  },
  {
   "cell_type": "code",
   "execution_count": 25,
   "metadata": {},
   "outputs": [],
   "source": [
    "temp = pd.pivot_table(target[(target.num > k + m + 7)], index='prev_target1', \n",
    "                      columns='multi_class_target', values='timestamp', aggfunc='count')"
   ]
  },
  {
   "cell_type": "code",
   "execution_count": 26,
   "metadata": {},
   "outputs": [],
   "source": [
    "target = pd.merge(target, temp, how='left', on='prev_target1')"
   ]
  },
  {
   "cell_type": "code",
   "execution_count": 27,
   "metadata": {},
   "outputs": [],
   "source": [
    "target.to_csv('data_for_model.csv', index=False)"
   ]
  },
  {
   "cell_type": "code",
   "execution_count": 28,
   "metadata": {},
   "outputs": [
    {
     "data": {
      "text/plain": [
       "0.5396963863240348"
      ]
     },
     "execution_count": 28,
     "metadata": {},
     "output_type": "execute_result"
    }
   ],
   "source": [
    "(time.time() - start_time) / 60 / 60"
   ]
  },
  {
   "cell_type": "code",
   "execution_count": 32,
   "metadata": {},
   "outputs": [
    {
     "data": {
      "text/html": [
       "<div>\n",
       "<style scoped>\n",
       "    .dataframe tbody tr th:only-of-type {\n",
       "        vertical-align: middle;\n",
       "    }\n",
       "\n",
       "    .dataframe tbody tr th {\n",
       "        vertical-align: top;\n",
       "    }\n",
       "\n",
       "    .dataframe thead th {\n",
       "        text-align: right;\n",
       "    }\n",
       "</style>\n",
       "<table border=\"1\" class=\"dataframe\">\n",
       "  <thead>\n",
       "    <tr style=\"text-align: right;\">\n",
       "      <th>day</th>\n",
       "      <th>1</th>\n",
       "      <th>2</th>\n",
       "      <th>3</th>\n",
       "      <th>4</th>\n",
       "      <th>5</th>\n",
       "      <th>6</th>\n",
       "      <th>7</th>\n",
       "      <th>8</th>\n",
       "      <th>9</th>\n",
       "      <th>10</th>\n",
       "      <th>...</th>\n",
       "      <th>22</th>\n",
       "      <th>23</th>\n",
       "      <th>24</th>\n",
       "      <th>25</th>\n",
       "      <th>26</th>\n",
       "      <th>27</th>\n",
       "      <th>28</th>\n",
       "      <th>29</th>\n",
       "      <th>30</th>\n",
       "      <th>31</th>\n",
       "    </tr>\n",
       "    <tr>\n",
       "      <th>multi_class_target</th>\n",
       "      <th></th>\n",
       "      <th></th>\n",
       "      <th></th>\n",
       "      <th></th>\n",
       "      <th></th>\n",
       "      <th></th>\n",
       "      <th></th>\n",
       "      <th></th>\n",
       "      <th></th>\n",
       "      <th></th>\n",
       "      <th></th>\n",
       "      <th></th>\n",
       "      <th></th>\n",
       "      <th></th>\n",
       "      <th></th>\n",
       "      <th></th>\n",
       "      <th></th>\n",
       "      <th></th>\n",
       "      <th></th>\n",
       "      <th></th>\n",
       "      <th></th>\n",
       "    </tr>\n",
       "  </thead>\n",
       "  <tbody>\n",
       "    <tr>\n",
       "      <th>0</th>\n",
       "      <td>6436</td>\n",
       "      <td>5863</td>\n",
       "      <td>6236</td>\n",
       "      <td>6082</td>\n",
       "      <td>6017</td>\n",
       "      <td>6317</td>\n",
       "      <td>6307</td>\n",
       "      <td>6318</td>\n",
       "      <td>5659</td>\n",
       "      <td>8388</td>\n",
       "      <td>...</td>\n",
       "      <td>6072</td>\n",
       "      <td>5777</td>\n",
       "      <td>6406</td>\n",
       "      <td>7566</td>\n",
       "      <td>6410</td>\n",
       "      <td>6759</td>\n",
       "      <td>6853</td>\n",
       "      <td>6721</td>\n",
       "      <td>6075</td>\n",
       "      <td>3830</td>\n",
       "    </tr>\n",
       "    <tr>\n",
       "      <th>1</th>\n",
       "      <td>4876</td>\n",
       "      <td>4434</td>\n",
       "      <td>4750</td>\n",
       "      <td>4401</td>\n",
       "      <td>4849</td>\n",
       "      <td>4823</td>\n",
       "      <td>4652</td>\n",
       "      <td>4638</td>\n",
       "      <td>4426</td>\n",
       "      <td>6429</td>\n",
       "      <td>...</td>\n",
       "      <td>4445</td>\n",
       "      <td>4290</td>\n",
       "      <td>4602</td>\n",
       "      <td>5071</td>\n",
       "      <td>4371</td>\n",
       "      <td>4657</td>\n",
       "      <td>4746</td>\n",
       "      <td>4520</td>\n",
       "      <td>4120</td>\n",
       "      <td>2564</td>\n",
       "    </tr>\n",
       "    <tr>\n",
       "      <th>2</th>\n",
       "      <td>6165</td>\n",
       "      <td>5991</td>\n",
       "      <td>6474</td>\n",
       "      <td>6014</td>\n",
       "      <td>5811</td>\n",
       "      <td>5978</td>\n",
       "      <td>6024</td>\n",
       "      <td>5695</td>\n",
       "      <td>5634</td>\n",
       "      <td>8109</td>\n",
       "      <td>...</td>\n",
       "      <td>6183</td>\n",
       "      <td>5838</td>\n",
       "      <td>5903</td>\n",
       "      <td>6587</td>\n",
       "      <td>5843</td>\n",
       "      <td>6457</td>\n",
       "      <td>6426</td>\n",
       "      <td>6131</td>\n",
       "      <td>5417</td>\n",
       "      <td>3574</td>\n",
       "    </tr>\n",
       "    <tr>\n",
       "      <th>3</th>\n",
       "      <td>16336</td>\n",
       "      <td>16315</td>\n",
       "      <td>17259</td>\n",
       "      <td>16407</td>\n",
       "      <td>16596</td>\n",
       "      <td>16764</td>\n",
       "      <td>16114</td>\n",
       "      <td>15784</td>\n",
       "      <td>15758</td>\n",
       "      <td>20154</td>\n",
       "      <td>...</td>\n",
       "      <td>15494</td>\n",
       "      <td>14859</td>\n",
       "      <td>15523</td>\n",
       "      <td>16343</td>\n",
       "      <td>14931</td>\n",
       "      <td>16431</td>\n",
       "      <td>15890</td>\n",
       "      <td>15667</td>\n",
       "      <td>13433</td>\n",
       "      <td>9047</td>\n",
       "    </tr>\n",
       "    <tr>\n",
       "      <th>4</th>\n",
       "      <td>2023</td>\n",
       "      <td>2050</td>\n",
       "      <td>2228</td>\n",
       "      <td>2115</td>\n",
       "      <td>2072</td>\n",
       "      <td>2124</td>\n",
       "      <td>2071</td>\n",
       "      <td>1993</td>\n",
       "      <td>2119</td>\n",
       "      <td>2670</td>\n",
       "      <td>...</td>\n",
       "      <td>2012</td>\n",
       "      <td>1872</td>\n",
       "      <td>2167</td>\n",
       "      <td>2259</td>\n",
       "      <td>1886</td>\n",
       "      <td>2123</td>\n",
       "      <td>2118</td>\n",
       "      <td>2101</td>\n",
       "      <td>1870</td>\n",
       "      <td>1305</td>\n",
       "    </tr>\n",
       "    <tr>\n",
       "      <th>5</th>\n",
       "      <td>70442</td>\n",
       "      <td>69597</td>\n",
       "      <td>76088</td>\n",
       "      <td>71796</td>\n",
       "      <td>75189</td>\n",
       "      <td>76596</td>\n",
       "      <td>72818</td>\n",
       "      <td>72623</td>\n",
       "      <td>70140</td>\n",
       "      <td>102854</td>\n",
       "      <td>...</td>\n",
       "      <td>69327</td>\n",
       "      <td>69459</td>\n",
       "      <td>77896</td>\n",
       "      <td>87883</td>\n",
       "      <td>72127</td>\n",
       "      <td>80934</td>\n",
       "      <td>80127</td>\n",
       "      <td>77972</td>\n",
       "      <td>69980</td>\n",
       "      <td>44648</td>\n",
       "    </tr>\n",
       "    <tr>\n",
       "      <th>6</th>\n",
       "      <td>10453</td>\n",
       "      <td>9010</td>\n",
       "      <td>8895</td>\n",
       "      <td>8355</td>\n",
       "      <td>8402</td>\n",
       "      <td>8735</td>\n",
       "      <td>8359</td>\n",
       "      <td>8599</td>\n",
       "      <td>8224</td>\n",
       "      <td>10243</td>\n",
       "      <td>...</td>\n",
       "      <td>8344</td>\n",
       "      <td>8526</td>\n",
       "      <td>8704</td>\n",
       "      <td>9412</td>\n",
       "      <td>9250</td>\n",
       "      <td>9858</td>\n",
       "      <td>9237</td>\n",
       "      <td>8950</td>\n",
       "      <td>8123</td>\n",
       "      <td>5272</td>\n",
       "    </tr>\n",
       "    <tr>\n",
       "      <th>7</th>\n",
       "      <td>9870</td>\n",
       "      <td>9277</td>\n",
       "      <td>9887</td>\n",
       "      <td>9194</td>\n",
       "      <td>9714</td>\n",
       "      <td>9746</td>\n",
       "      <td>9696</td>\n",
       "      <td>9536</td>\n",
       "      <td>9494</td>\n",
       "      <td>13258</td>\n",
       "      <td>...</td>\n",
       "      <td>8833</td>\n",
       "      <td>8682</td>\n",
       "      <td>9526</td>\n",
       "      <td>10559</td>\n",
       "      <td>9013</td>\n",
       "      <td>9565</td>\n",
       "      <td>9607</td>\n",
       "      <td>9336</td>\n",
       "      <td>8558</td>\n",
       "      <td>6018</td>\n",
       "    </tr>\n",
       "    <tr>\n",
       "      <th>8</th>\n",
       "      <td>7450</td>\n",
       "      <td>7028</td>\n",
       "      <td>7803</td>\n",
       "      <td>7202</td>\n",
       "      <td>7425</td>\n",
       "      <td>7656</td>\n",
       "      <td>7284</td>\n",
       "      <td>7143</td>\n",
       "      <td>6527</td>\n",
       "      <td>10590</td>\n",
       "      <td>...</td>\n",
       "      <td>7316</td>\n",
       "      <td>6619</td>\n",
       "      <td>7606</td>\n",
       "      <td>8801</td>\n",
       "      <td>7711</td>\n",
       "      <td>8367</td>\n",
       "      <td>8367</td>\n",
       "      <td>8395</td>\n",
       "      <td>7433</td>\n",
       "      <td>4979</td>\n",
       "    </tr>\n",
       "    <tr>\n",
       "      <th>9</th>\n",
       "      <td>32174</td>\n",
       "      <td>28414</td>\n",
       "      <td>29699</td>\n",
       "      <td>27397</td>\n",
       "      <td>28727</td>\n",
       "      <td>28737</td>\n",
       "      <td>28338</td>\n",
       "      <td>27870</td>\n",
       "      <td>26854</td>\n",
       "      <td>44757</td>\n",
       "      <td>...</td>\n",
       "      <td>26797</td>\n",
       "      <td>25984</td>\n",
       "      <td>30175</td>\n",
       "      <td>35066</td>\n",
       "      <td>28676</td>\n",
       "      <td>31618</td>\n",
       "      <td>31775</td>\n",
       "      <td>31400</td>\n",
       "      <td>29087</td>\n",
       "      <td>18469</td>\n",
       "    </tr>\n",
       "  </tbody>\n",
       "</table>\n",
       "<p>10 rows × 31 columns</p>\n",
       "</div>"
      ],
      "text/plain": [
       "day                    1      2      3      4      5      6      7      8   \\\n",
       "multi_class_target                                                           \n",
       "0                    6436   5863   6236   6082   6017   6317   6307   6318   \n",
       "1                    4876   4434   4750   4401   4849   4823   4652   4638   \n",
       "2                    6165   5991   6474   6014   5811   5978   6024   5695   \n",
       "3                   16336  16315  17259  16407  16596  16764  16114  15784   \n",
       "4                    2023   2050   2228   2115   2072   2124   2071   1993   \n",
       "5                   70442  69597  76088  71796  75189  76596  72818  72623   \n",
       "6                   10453   9010   8895   8355   8402   8735   8359   8599   \n",
       "7                    9870   9277   9887   9194   9714   9746   9696   9536   \n",
       "8                    7450   7028   7803   7202   7425   7656   7284   7143   \n",
       "9                   32174  28414  29699  27397  28727  28737  28338  27870   \n",
       "\n",
       "day                    9       10  ...     22     23     24     25     26  \\\n",
       "multi_class_target                 ...                                      \n",
       "0                    5659    8388  ...   6072   5777   6406   7566   6410   \n",
       "1                    4426    6429  ...   4445   4290   4602   5071   4371   \n",
       "2                    5634    8109  ...   6183   5838   5903   6587   5843   \n",
       "3                   15758   20154  ...  15494  14859  15523  16343  14931   \n",
       "4                    2119    2670  ...   2012   1872   2167   2259   1886   \n",
       "5                   70140  102854  ...  69327  69459  77896  87883  72127   \n",
       "6                    8224   10243  ...   8344   8526   8704   9412   9250   \n",
       "7                    9494   13258  ...   8833   8682   9526  10559   9013   \n",
       "8                    6527   10590  ...   7316   6619   7606   8801   7711   \n",
       "9                   26854   44757  ...  26797  25984  30175  35066  28676   \n",
       "\n",
       "day                    27     28     29     30     31  \n",
       "multi_class_target                                     \n",
       "0                    6759   6853   6721   6075   3830  \n",
       "1                    4657   4746   4520   4120   2564  \n",
       "2                    6457   6426   6131   5417   3574  \n",
       "3                   16431  15890  15667  13433   9047  \n",
       "4                    2123   2118   2101   1870   1305  \n",
       "5                   80934  80127  77972  69980  44648  \n",
       "6                    9858   9237   8950   8123   5272  \n",
       "7                    9565   9607   9336   8558   6018  \n",
       "8                    8367   8367   8395   7433   4979  \n",
       "9                   31618  31775  31400  29087  18469  \n",
       "\n",
       "[10 rows x 31 columns]"
      ]
     },
     "execution_count": 32,
     "metadata": {},
     "output_type": "execute_result"
    }
   ],
   "source": [
    "pd.pivot_table(target[['multi_class_target', 'day', 'timestamp']], index='multi_class_target', columns='day', \n",
    "               values='timestamp', aggfunc='count')"
   ]
  },
  {
   "cell_type": "code",
   "execution_count": 33,
   "metadata": {},
   "outputs": [
    {
     "data": {
      "text/plain": [
       "array(['card2card_transfer', 'card_recharge', 'chat', 'credit_info',\n",
       "       'invest', 'main_screen', 'mobile_recharge', 'own_transfer',\n",
       "       'phone_money_transfer', 'statement'], dtype=object)"
      ]
     },
     "execution_count": 33,
     "metadata": {},
     "output_type": "execute_result"
    }
   ],
   "source": [
    "enc.classes_"
   ]
  },
  {
   "cell_type": "code",
   "execution_count": 48,
   "metadata": {},
   "outputs": [],
   "source": [
    "cols_to_drop = ['session_id', 'client_pin', 'timestamp', 'multi_class_target', \n",
    "               'prev_session', 'num', 'session_id_y', 'client_y'] + ['ohe_' + str(i) for i in range(10)]\n",
    "\n",
    "train_inds = (target.num >= k + m) & (target.num <= k + m + 10)\n",
    "test_inds = (target.num == k - 1)\n",
    "\n",
    "X_train = target[train_inds]\n",
    "y_train = target[train_inds]['multi_class_target']\n",
    "\n",
    "X_test = target[test_inds]\n",
    "y_test = target[test_inds]['multi_class_target']"
   ]
  },
  {
   "cell_type": "code",
   "execution_count": 49,
   "metadata": {},
   "outputs": [],
   "source": [
    "temp = pd.pivot_table(target[(target.num > k + m + 7)], index='prev_target1', \n",
    "                      columns='multi_class_target', values='timestamp', aggfunc='count')"
   ]
  },
  {
   "cell_type": "code",
   "execution_count": 50,
   "metadata": {},
   "outputs": [],
   "source": [
    "temp = temp.div(temp.sum(axis=1), axis=0)"
   ]
  },
  {
   "cell_type": "code",
   "execution_count": 51,
   "metadata": {},
   "outputs": [],
   "source": [
    "X_train = pd.merge(X_train, temp, how='left', on='prev_target1')\n",
    "X_test = pd.merge(X_test, temp, how='left', on='prev_target1')"
   ]
  },
  {
   "cell_type": "code",
   "execution_count": 52,
   "metadata": {},
   "outputs": [],
   "source": [
    "cols_to_drop = ['session_id', 'client_pin', 'timestamp', 'multi_class_target', \n",
    "               'prev_session', 'num'] + ['ohe_' + str(i) for i in range(10)]\n",
    "\n",
    "X_train = X_train.drop(columns=cols_to_drop)\n",
    "X_test = X_test.drop(columns=cols_to_drop)"
   ]
  },
  {
   "cell_type": "code",
   "execution_count": 53,
   "metadata": {},
   "outputs": [],
   "source": [
    "def eval_metric(y_true, y_pred):\n",
    "    return 'eval', f1_score(y_true, y_pred.reshape(10, -1).argmax(axis=0), average='macro'), False"
   ]
  },
  {
   "cell_type": "code",
   "execution_count": 54,
   "metadata": {},
   "outputs": [],
   "source": [
    "weights = (1 / (y_train.value_counts() / len(y_train) + 0.2) ).to_dict()"
   ]
  },
  {
   "cell_type": "code",
   "execution_count": 55,
   "metadata": {},
   "outputs": [
    {
     "data": {
      "text/plain": [
       "{5: 1.574673357287678,\n",
       " 9: 2.796233029840144,\n",
       " 3: 2.994866859159448,\n",
       " 2: 3.984918312707741,\n",
       " 8: 4.005753423516129,\n",
       " 6: 4.071288461884533,\n",
       " 7: 4.088991993229702,\n",
       " 1: 4.194366316992548,\n",
       " 0: 4.262443699684363,\n",
       " 4: 4.7703520317922585}"
      ]
     },
     "execution_count": 55,
     "metadata": {},
     "output_type": "execute_result"
    }
   ],
   "source": [
    "weights"
   ]
  },
  {
   "cell_type": "code",
   "execution_count": 56,
   "metadata": {},
   "outputs": [],
   "source": [
    "weights[3] = 2\n",
    "weights[5] = 1.6\n",
    "weights[9] = 2.9\n",
    "weights[1] = 3\n",
    "weights[7] = 3\n",
    "weights[2] = 4.3"
   ]
  },
  {
   "cell_type": "code",
   "execution_count": 46,
   "metadata": {},
   "outputs": [],
   "source": [
    "X_train['max_'] = X_train[['cs_' + str(i) for i in range(10)]].values.argmax(axis=1)\n",
    "X_train['max_0.1_'] = X_train[['cs_ewm_0.1' + str(i) for i in range(10)]].values.argmax(axis=1)\n",
    "X_test['max_'] = X_test[['cs_' + str(i) for i in range(10)]].values.argmax(axis=1)\n",
    "X_test['max_0.1_'] = X_test[['cs_ewm_0.1' + str(i) for i in range(10)]].values.argmax(axis=1)"
   ]
  },
  {
   "cell_type": "code",
   "execution_count": 57,
   "metadata": {
    "scrolled": true
   },
   "outputs": [
    {
     "name": "stdout",
     "output_type": "stream",
     "text": [
      "[1]\tvalid_0's multi_logloss: 1.78177\tvalid_0's eval: 0.0601297\n",
      "[2]\tvalid_0's multi_logloss: 1.72238\tvalid_0's eval: 0.0836772\n",
      "[3]\tvalid_0's multi_logloss: 1.67497\tvalid_0's eval: 0.133702\n",
      "[4]\tvalid_0's multi_logloss: 1.63555\tvalid_0's eval: 0.198292\n",
      "[5]\tvalid_0's multi_logloss: 1.60195\tvalid_0's eval: 0.250766\n",
      "[6]\tvalid_0's multi_logloss: 1.57327\tvalid_0's eval: 0.294993\n",
      "[7]\tvalid_0's multi_logloss: 1.54834\tvalid_0's eval: 0.323602\n",
      "[8]\tvalid_0's multi_logloss: 1.52675\tvalid_0's eval: 0.346122\n",
      "[9]\tvalid_0's multi_logloss: 1.50763\tvalid_0's eval: 0.361929\n",
      "[10]\tvalid_0's multi_logloss: 1.49098\tvalid_0's eval: 0.372878\n",
      "[11]\tvalid_0's multi_logloss: 1.47629\tvalid_0's eval: 0.381293\n",
      "[12]\tvalid_0's multi_logloss: 1.46311\tvalid_0's eval: 0.387346\n",
      "[13]\tvalid_0's multi_logloss: 1.45144\tvalid_0's eval: 0.391229\n",
      "[14]\tvalid_0's multi_logloss: 1.44106\tvalid_0's eval: 0.395328\n",
      "[15]\tvalid_0's multi_logloss: 1.43173\tvalid_0's eval: 0.398543\n",
      "[16]\tvalid_0's multi_logloss: 1.42353\tvalid_0's eval: 0.400557\n",
      "[17]\tvalid_0's multi_logloss: 1.41603\tvalid_0's eval: 0.4026\n",
      "[18]\tvalid_0's multi_logloss: 1.40939\tvalid_0's eval: 0.404025\n",
      "[19]\tvalid_0's multi_logloss: 1.4034\tvalid_0's eval: 0.405581\n",
      "[20]\tvalid_0's multi_logloss: 1.39804\tvalid_0's eval: 0.407065\n",
      "[21]\tvalid_0's multi_logloss: 1.39319\tvalid_0's eval: 0.408325\n",
      "[22]\tvalid_0's multi_logloss: 1.38886\tvalid_0's eval: 0.40945\n",
      "[23]\tvalid_0's multi_logloss: 1.38492\tvalid_0's eval: 0.410035\n",
      "[24]\tvalid_0's multi_logloss: 1.38124\tvalid_0's eval: 0.410718\n",
      "[25]\tvalid_0's multi_logloss: 1.37801\tvalid_0's eval: 0.411568\n",
      "[26]\tvalid_0's multi_logloss: 1.37503\tvalid_0's eval: 0.411634\n",
      "[27]\tvalid_0's multi_logloss: 1.37238\tvalid_0's eval: 0.411566\n",
      "[28]\tvalid_0's multi_logloss: 1.37004\tvalid_0's eval: 0.411488\n",
      "[29]\tvalid_0's multi_logloss: 1.36789\tvalid_0's eval: 0.412053\n",
      "[30]\tvalid_0's multi_logloss: 1.36594\tvalid_0's eval: 0.412215\n",
      "[31]\tvalid_0's multi_logloss: 1.36417\tvalid_0's eval: 0.412574\n",
      "[32]\tvalid_0's multi_logloss: 1.36251\tvalid_0's eval: 0.412905\n",
      "[33]\tvalid_0's multi_logloss: 1.36094\tvalid_0's eval: 0.413309\n",
      "[34]\tvalid_0's multi_logloss: 1.35952\tvalid_0's eval: 0.413433\n",
      "[35]\tvalid_0's multi_logloss: 1.35826\tvalid_0's eval: 0.413862\n",
      "[36]\tvalid_0's multi_logloss: 1.35719\tvalid_0's eval: 0.41419\n",
      "[37]\tvalid_0's multi_logloss: 1.35616\tvalid_0's eval: 0.414214\n",
      "[38]\tvalid_0's multi_logloss: 1.35526\tvalid_0's eval: 0.41469\n",
      "[39]\tvalid_0's multi_logloss: 1.35438\tvalid_0's eval: 0.414375\n",
      "[40]\tvalid_0's multi_logloss: 1.35351\tvalid_0's eval: 0.414453\n",
      "[41]\tvalid_0's multi_logloss: 1.35269\tvalid_0's eval: 0.414597\n",
      "[42]\tvalid_0's multi_logloss: 1.35201\tvalid_0's eval: 0.414722\n",
      "[43]\tvalid_0's multi_logloss: 1.35143\tvalid_0's eval: 0.414779\n",
      "[44]\tvalid_0's multi_logloss: 1.3508\tvalid_0's eval: 0.414694\n",
      "[45]\tvalid_0's multi_logloss: 1.35034\tvalid_0's eval: 0.414623\n",
      "[46]\tvalid_0's multi_logloss: 1.3498\tvalid_0's eval: 0.414505\n",
      "[47]\tvalid_0's multi_logloss: 1.34939\tvalid_0's eval: 0.414503\n",
      "[48]\tvalid_0's multi_logloss: 1.349\tvalid_0's eval: 0.414578\n",
      "[49]\tvalid_0's multi_logloss: 1.34859\tvalid_0's eval: 0.414767\n",
      "[50]\tvalid_0's multi_logloss: 1.34826\tvalid_0's eval: 0.414935\n",
      "[51]\tvalid_0's multi_logloss: 1.34785\tvalid_0's eval: 0.415002\n",
      "[52]\tvalid_0's multi_logloss: 1.3475\tvalid_0's eval: 0.415136\n",
      "[53]\tvalid_0's multi_logloss: 1.34725\tvalid_0's eval: 0.415063\n",
      "[54]\tvalid_0's multi_logloss: 1.34701\tvalid_0's eval: 0.415139\n",
      "[55]\tvalid_0's multi_logloss: 1.34677\tvalid_0's eval: 0.415235\n",
      "[56]\tvalid_0's multi_logloss: 1.34654\tvalid_0's eval: 0.415271\n",
      "[57]\tvalid_0's multi_logloss: 1.34632\tvalid_0's eval: 0.415325\n",
      "[58]\tvalid_0's multi_logloss: 1.34615\tvalid_0's eval: 0.415406\n",
      "[59]\tvalid_0's multi_logloss: 1.3459\tvalid_0's eval: 0.415417\n",
      "[60]\tvalid_0's multi_logloss: 1.34574\tvalid_0's eval: 0.415117\n",
      "[61]\tvalid_0's multi_logloss: 1.34558\tvalid_0's eval: 0.415411\n",
      "[62]\tvalid_0's multi_logloss: 1.34545\tvalid_0's eval: 0.415185\n",
      "[63]\tvalid_0's multi_logloss: 1.34533\tvalid_0's eval: 0.415287\n",
      "[64]\tvalid_0's multi_logloss: 1.34516\tvalid_0's eval: 0.415348\n",
      "[65]\tvalid_0's multi_logloss: 1.34505\tvalid_0's eval: 0.414946\n",
      "[66]\tvalid_0's multi_logloss: 1.34495\tvalid_0's eval: 0.415324\n",
      "[67]\tvalid_0's multi_logloss: 1.34482\tvalid_0's eval: 0.415334\n",
      "[68]\tvalid_0's multi_logloss: 1.34472\tvalid_0's eval: 0.415312\n",
      "[69]\tvalid_0's multi_logloss: 1.34461\tvalid_0's eval: 0.415276\n",
      "[70]\tvalid_0's multi_logloss: 1.34453\tvalid_0's eval: 0.415664\n",
      "[71]\tvalid_0's multi_logloss: 1.34445\tvalid_0's eval: 0.415495\n",
      "[72]\tvalid_0's multi_logloss: 1.3444\tvalid_0's eval: 0.415373\n",
      "[73]\tvalid_0's multi_logloss: 1.34431\tvalid_0's eval: 0.415432\n",
      "[74]\tvalid_0's multi_logloss: 1.3442\tvalid_0's eval: 0.415757\n",
      "[75]\tvalid_0's multi_logloss: 1.34412\tvalid_0's eval: 0.415754\n",
      "[76]\tvalid_0's multi_logloss: 1.34412\tvalid_0's eval: 0.415919\n",
      "[77]\tvalid_0's multi_logloss: 1.34402\tvalid_0's eval: 0.415693\n",
      "[78]\tvalid_0's multi_logloss: 1.34397\tvalid_0's eval: 0.415679\n",
      "[79]\tvalid_0's multi_logloss: 1.3439\tvalid_0's eval: 0.415842\n",
      "[80]\tvalid_0's multi_logloss: 1.34387\tvalid_0's eval: 0.415875\n",
      "[81]\tvalid_0's multi_logloss: 1.34384\tvalid_0's eval: 0.415985\n",
      "[82]\tvalid_0's multi_logloss: 1.34375\tvalid_0's eval: 0.415934\n",
      "[83]\tvalid_0's multi_logloss: 1.34369\tvalid_0's eval: 0.415935\n",
      "[84]\tvalid_0's multi_logloss: 1.34363\tvalid_0's eval: 0.415958\n",
      "[85]\tvalid_0's multi_logloss: 1.34363\tvalid_0's eval: 0.415925\n",
      "[86]\tvalid_0's multi_logloss: 1.34356\tvalid_0's eval: 0.415865\n",
      "[87]\tvalid_0's multi_logloss: 1.34353\tvalid_0's eval: 0.415559\n",
      "[88]\tvalid_0's multi_logloss: 1.34345\tvalid_0's eval: 0.415611\n",
      "[89]\tvalid_0's multi_logloss: 1.34339\tvalid_0's eval: 0.415816\n",
      "[90]\tvalid_0's multi_logloss: 1.34333\tvalid_0's eval: 0.415804\n",
      "[91]\tvalid_0's multi_logloss: 1.34327\tvalid_0's eval: 0.415692\n",
      "[92]\tvalid_0's multi_logloss: 1.34324\tvalid_0's eval: 0.415939\n",
      "[93]\tvalid_0's multi_logloss: 1.34323\tvalid_0's eval: 0.415649\n",
      "[94]\tvalid_0's multi_logloss: 1.34316\tvalid_0's eval: 0.415548\n",
      "[95]\tvalid_0's multi_logloss: 1.34311\tvalid_0's eval: 0.415534\n",
      "[96]\tvalid_0's multi_logloss: 1.34316\tvalid_0's eval: 0.415356\n",
      "[97]\tvalid_0's multi_logloss: 1.34314\tvalid_0's eval: 0.415585\n",
      "[98]\tvalid_0's multi_logloss: 1.34309\tvalid_0's eval: 0.415749\n",
      "[99]\tvalid_0's multi_logloss: 1.34304\tvalid_0's eval: 0.415522\n",
      "[100]\tvalid_0's multi_logloss: 1.34302\tvalid_0's eval: 0.415251\n",
      "[101]\tvalid_0's multi_logloss: 1.34293\tvalid_0's eval: 0.415142\n",
      "[102]\tvalid_0's multi_logloss: 1.34294\tvalid_0's eval: 0.415102\n",
      "[103]\tvalid_0's multi_logloss: 1.34295\tvalid_0's eval: 0.415149\n",
      "[104]\tvalid_0's multi_logloss: 1.34296\tvalid_0's eval: 0.415095\n",
      "[105]\tvalid_0's multi_logloss: 1.34298\tvalid_0's eval: 0.414828\n",
      "[106]\tvalid_0's multi_logloss: 1.34293\tvalid_0's eval: 0.414869\n",
      "[107]\tvalid_0's multi_logloss: 1.34289\tvalid_0's eval: 0.414812\n",
      "[108]\tvalid_0's multi_logloss: 1.34284\tvalid_0's eval: 0.414675\n",
      "[109]\tvalid_0's multi_logloss: 1.34278\tvalid_0's eval: 0.414655\n",
      "[110]\tvalid_0's multi_logloss: 1.34277\tvalid_0's eval: 0.414602\n",
      "[111]\tvalid_0's multi_logloss: 1.34277\tvalid_0's eval: 0.414544\n",
      "[112]\tvalid_0's multi_logloss: 1.34271\tvalid_0's eval: 0.414384\n",
      "[113]\tvalid_0's multi_logloss: 1.34264\tvalid_0's eval: 0.414473\n",
      "[114]\tvalid_0's multi_logloss: 1.34261\tvalid_0's eval: 0.41451\n",
      "[115]\tvalid_0's multi_logloss: 1.34266\tvalid_0's eval: 0.414727\n",
      "[116]\tvalid_0's multi_logloss: 1.34263\tvalid_0's eval: 0.414562\n",
      "[117]\tvalid_0's multi_logloss: 1.34265\tvalid_0's eval: 0.414647\n",
      "[118]\tvalid_0's multi_logloss: 1.34262\tvalid_0's eval: 0.414294\n",
      "[119]\tvalid_0's multi_logloss: 1.34258\tvalid_0's eval: 0.414661\n",
      "[120]\tvalid_0's multi_logloss: 1.34255\tvalid_0's eval: 0.414487\n",
      "[121]\tvalid_0's multi_logloss: 1.34255\tvalid_0's eval: 0.414418\n",
      "[122]\tvalid_0's multi_logloss: 1.34251\tvalid_0's eval: 0.414765\n",
      "[123]\tvalid_0's multi_logloss: 1.34249\tvalid_0's eval: 0.414747\n",
      "[124]\tvalid_0's multi_logloss: 1.34253\tvalid_0's eval: 0.41473\n",
      "[125]\tvalid_0's multi_logloss: 1.34252\tvalid_0's eval: 0.414601\n",
      "[126]\tvalid_0's multi_logloss: 1.34247\tvalid_0's eval: 0.41456\n",
      "[127]\tvalid_0's multi_logloss: 1.34252\tvalid_0's eval: 0.41443\n",
      "[128]\tvalid_0's multi_logloss: 1.3425\tvalid_0's eval: 0.41429\n",
      "[129]\tvalid_0's multi_logloss: 1.34248\tvalid_0's eval: 0.414231\n",
      "[130]\tvalid_0's multi_logloss: 1.34249\tvalid_0's eval: 0.413963\n"
     ]
    },
    {
     "name": "stdout",
     "output_type": "stream",
     "text": [
      "[131]\tvalid_0's multi_logloss: 1.34251\tvalid_0's eval: 0.413971\n",
      "[132]\tvalid_0's multi_logloss: 1.34245\tvalid_0's eval: 0.414185\n",
      "[133]\tvalid_0's multi_logloss: 1.34249\tvalid_0's eval: 0.414143\n",
      "[134]\tvalid_0's multi_logloss: 1.34254\tvalid_0's eval: 0.413807\n",
      "[135]\tvalid_0's multi_logloss: 1.34262\tvalid_0's eval: 0.413703\n",
      "[136]\tvalid_0's multi_logloss: 1.34262\tvalid_0's eval: 0.414017\n",
      "[137]\tvalid_0's multi_logloss: 1.34267\tvalid_0's eval: 0.413749\n",
      "[138]\tvalid_0's multi_logloss: 1.34269\tvalid_0's eval: 0.413783\n",
      "[139]\tvalid_0's multi_logloss: 1.34266\tvalid_0's eval: 0.413841\n",
      "[140]\tvalid_0's multi_logloss: 1.34262\tvalid_0's eval: 0.413781\n",
      "[141]\tvalid_0's multi_logloss: 1.34265\tvalid_0's eval: 0.413802\n",
      "[142]\tvalid_0's multi_logloss: 1.34265\tvalid_0's eval: 0.413684\n",
      "[143]\tvalid_0's multi_logloss: 1.34263\tvalid_0's eval: 0.413812\n",
      "[144]\tvalid_0's multi_logloss: 1.34264\tvalid_0's eval: 0.41402\n",
      "[145]\tvalid_0's multi_logloss: 1.34263\tvalid_0's eval: 0.414144\n",
      "[146]\tvalid_0's multi_logloss: 1.34263\tvalid_0's eval: 0.414191\n",
      "[147]\tvalid_0's multi_logloss: 1.34262\tvalid_0's eval: 0.414223\n",
      "[148]\tvalid_0's multi_logloss: 1.34262\tvalid_0's eval: 0.414375\n",
      "[149]\tvalid_0's multi_logloss: 1.34259\tvalid_0's eval: 0.414313\n",
      "[150]\tvalid_0's multi_logloss: 1.34256\tvalid_0's eval: 0.414392\n",
      "[151]\tvalid_0's multi_logloss: 1.34257\tvalid_0's eval: 0.414151\n",
      "[152]\tvalid_0's multi_logloss: 1.34257\tvalid_0's eval: 0.414183\n",
      "[153]\tvalid_0's multi_logloss: 1.34257\tvalid_0's eval: 0.414222\n",
      "[154]\tvalid_0's multi_logloss: 1.34256\tvalid_0's eval: 0.414087\n",
      "[155]\tvalid_0's multi_logloss: 1.34252\tvalid_0's eval: 0.414059\n",
      "[156]\tvalid_0's multi_logloss: 1.34255\tvalid_0's eval: 0.414333\n",
      "[157]\tvalid_0's multi_logloss: 1.34255\tvalid_0's eval: 0.414212\n",
      "[158]\tvalid_0's multi_logloss: 1.34254\tvalid_0's eval: 0.414316\n",
      "[159]\tvalid_0's multi_logloss: 1.34254\tvalid_0's eval: 0.414242\n",
      "[160]\tvalid_0's multi_logloss: 1.34257\tvalid_0's eval: 0.414499\n",
      "[161]\tvalid_0's multi_logloss: 1.34253\tvalid_0's eval: 0.414197\n",
      "[162]\tvalid_0's multi_logloss: 1.34249\tvalid_0's eval: 0.414245\n",
      "[163]\tvalid_0's multi_logloss: 1.34249\tvalid_0's eval: 0.414252\n",
      "[164]\tvalid_0's multi_logloss: 1.34253\tvalid_0's eval: 0.414095\n",
      "[165]\tvalid_0's multi_logloss: 1.34254\tvalid_0's eval: 0.414041\n",
      "[166]\tvalid_0's multi_logloss: 1.34256\tvalid_0's eval: 0.413852\n",
      "[167]\tvalid_0's multi_logloss: 1.34255\tvalid_0's eval: 0.413916\n",
      "[168]\tvalid_0's multi_logloss: 1.34254\tvalid_0's eval: 0.414046\n",
      "[169]\tvalid_0's multi_logloss: 1.34253\tvalid_0's eval: 0.41418\n",
      "[170]\tvalid_0's multi_logloss: 1.3425\tvalid_0's eval: 0.414295\n",
      "[171]\tvalid_0's multi_logloss: 1.3425\tvalid_0's eval: 0.414173\n",
      "[172]\tvalid_0's multi_logloss: 1.34251\tvalid_0's eval: 0.41422\n",
      "[173]\tvalid_0's multi_logloss: 1.34254\tvalid_0's eval: 0.414213\n",
      "[174]\tvalid_0's multi_logloss: 1.3425\tvalid_0's eval: 0.414119\n",
      "[175]\tvalid_0's multi_logloss: 1.34255\tvalid_0's eval: 0.414068\n",
      "[176]\tvalid_0's multi_logloss: 1.3425\tvalid_0's eval: 0.414271\n",
      "[177]\tvalid_0's multi_logloss: 1.34248\tvalid_0's eval: 0.414371\n",
      "[178]\tvalid_0's multi_logloss: 1.34247\tvalid_0's eval: 0.414127\n",
      "[179]\tvalid_0's multi_logloss: 1.34251\tvalid_0's eval: 0.414109\n",
      "[180]\tvalid_0's multi_logloss: 1.34248\tvalid_0's eval: 0.414089\n",
      "[181]\tvalid_0's multi_logloss: 1.34247\tvalid_0's eval: 0.414146\n",
      "[182]\tvalid_0's multi_logloss: 1.34248\tvalid_0's eval: 0.413982\n",
      "[183]\tvalid_0's multi_logloss: 1.34247\tvalid_0's eval: 0.414076\n",
      "[184]\tvalid_0's multi_logloss: 1.34244\tvalid_0's eval: 0.414185\n",
      "[185]\tvalid_0's multi_logloss: 1.3424\tvalid_0's eval: 0.414293\n",
      "[186]\tvalid_0's multi_logloss: 1.34246\tvalid_0's eval: 0.414239\n",
      "[187]\tvalid_0's multi_logloss: 1.34244\tvalid_0's eval: 0.414142\n",
      "[188]\tvalid_0's multi_logloss: 1.34241\tvalid_0's eval: 0.41434\n",
      "[189]\tvalid_0's multi_logloss: 1.34233\tvalid_0's eval: 0.414195\n",
      "[190]\tvalid_0's multi_logloss: 1.34237\tvalid_0's eval: 0.413997\n",
      "[191]\tvalid_0's multi_logloss: 1.34235\tvalid_0's eval: 0.413905\n",
      "[192]\tvalid_0's multi_logloss: 1.34238\tvalid_0's eval: 0.413978\n",
      "[193]\tvalid_0's multi_logloss: 1.34234\tvalid_0's eval: 0.414078\n",
      "[194]\tvalid_0's multi_logloss: 1.34235\tvalid_0's eval: 0.41408\n",
      "[195]\tvalid_0's multi_logloss: 1.34238\tvalid_0's eval: 0.41384\n",
      "[196]\tvalid_0's multi_logloss: 1.34236\tvalid_0's eval: 0.413939\n",
      "[197]\tvalid_0's multi_logloss: 1.3424\tvalid_0's eval: 0.413758\n",
      "[198]\tvalid_0's multi_logloss: 1.34236\tvalid_0's eval: 0.413813\n",
      "[199]\tvalid_0's multi_logloss: 1.34236\tvalid_0's eval: 0.41377\n",
      "[200]\tvalid_0's multi_logloss: 1.34242\tvalid_0's eval: 0.413961\n"
     ]
    },
    {
     "data": {
      "text/plain": [
       "LGBMClassifier(boosting_type='gbdt',\n",
       "               class_weight={0: 4.262443699684363, 1: 3, 2: 4.3, 3: 2,\n",
       "                             4: 4.7703520317922585, 5: 1.6,\n",
       "                             6: 4.071288461884533, 7: 3, 8: 4.005753423516129,\n",
       "                             9: 2.9},\n",
       "               colsample_bytree=1.0, importance_type='split', learning_rate=0.1,\n",
       "               max_depth=6, min_child_samples=20, min_child_weight=0.001,\n",
       "               min_split_gain=0.0, n_estimators=200, n_jobs=-1, num_leaves=50,\n",
       "               objective=None, random_state=51, reg_alpha=0.0, reg_lambda=0.0,\n",
       "               silent=True, subsample=0.7, subsample_for_bin=200000,\n",
       "               subsample_freq=1)"
      ]
     },
     "execution_count": 57,
     "metadata": {},
     "output_type": "execute_result"
    }
   ],
   "source": [
    "clf = lgb.LGBMClassifier(max_depth=6,\n",
    "                         num_leaves=50,\n",
    "                         n_estimators=200, \n",
    "                         learning_rate=0.1, \n",
    "                         random_state=51, \n",
    "                         subsample=0.7, \n",
    "                         subsample_freq=1,\n",
    "                         class_weight = weights)\n",
    "clf.fit(X_train.values, y_train, \n",
    "        eval_set=(X_test.values, y_test), \n",
    "        eval_metric=eval_metric)"
   ]
  },
  {
   "cell_type": "code",
   "execution_count": 58,
   "metadata": {},
   "outputs": [
    {
     "data": {
      "text/plain": [
       "0.6285816774103377"
      ]
     },
     "execution_count": 58,
     "metadata": {},
     "output_type": "execute_result"
    }
   ],
   "source": [
    "(time.time() - start_time) / 60 / 60"
   ]
  },
  {
   "cell_type": "code",
   "execution_count": 59,
   "metadata": {},
   "outputs": [],
   "source": [
    "train_pred = clf.predict(X_train.values)\n",
    "test_pred = clf.predict(X_test.values)\n"
   ]
  },
  {
   "cell_type": "code",
   "execution_count": 63,
   "metadata": {},
   "outputs": [
    {
     "data": {
      "text/plain": [
       "0.5347555129434324"
      ]
     },
     "execution_count": 63,
     "metadata": {},
     "output_type": "execute_result"
    }
   ],
   "source": [
    "np.mean(test_pred == y_test)"
   ]
  },
  {
   "cell_type": "code",
   "execution_count": 60,
   "metadata": {},
   "outputs": [
    {
     "name": "stdout",
     "output_type": "stream",
     "text": [
      "train score:  0.4543927749971334\n",
      "test score:  0.4139611765239343\n"
     ]
    }
   ],
   "source": [
    "print(\"train score: \", f1_score(y_train, train_pred, average='macro'))\n",
    "print('test score: ', f1_score(y_test, test_pred, average='macro'))"
   ]
  },
  {
   "cell_type": "code",
   "execution_count": 38,
   "metadata": {},
   "outputs": [
    {
     "name": "stdout",
     "output_type": "stream",
     "text": [
      "test score:  0.08630642060694294\n"
     ]
    }
   ],
   "source": [
    "print('test score: ', f1_score(y_test.values[(X_test.num_rev == 0) & (X_test.diff_ > 0)], \n",
    "                               test_pred[(X_test.num_rev == 0) & (X_test.diff_ > 0)], average='macro'))"
   ]
  },
  {
   "cell_type": "code",
   "execution_count": 39,
   "metadata": {},
   "outputs": [
    {
     "data": {
      "text/plain": [
       "array([ 2543,  3209,  4133, 10648,   861, 34077,  3337,  3395,  4129,\n",
       "       12936])"
      ]
     },
     "execution_count": 39,
     "metadata": {},
     "output_type": "execute_result"
    }
   ],
   "source": [
    "x1 = np.unique(y_test, return_counts=True)\n",
    "x1[1]"
   ]
  },
  {
   "cell_type": "code",
   "execution_count": 40,
   "metadata": {},
   "outputs": [
    {
     "data": {
      "text/plain": [
       "array([ 2373,  3300,  3759, 11192,   546, 34874,  3325,  3382,  3605,\n",
       "       12912])"
      ]
     },
     "execution_count": 40,
     "metadata": {},
     "output_type": "execute_result"
    }
   ],
   "source": [
    "x2 = np.unique(test_pred, return_counts=True)\n",
    "x2[1]"
   ]
  },
  {
   "cell_type": "code",
   "execution_count": 41,
   "metadata": {},
   "outputs": [
    {
     "data": {
      "image/png": "[encoded data removed]",
      "text/plain": [
       "<Figure size 432x288 with 1 Axes>"
      ]
     },
     "metadata": {
      "needs_background": "light"
     },
     "output_type": "display_data"
    }
   ],
   "source": [
    "plt.bar(x1[0], x1[1], alpha=0.5, label='true')\n",
    "plt.bar(x2[0], x2[1], alpha=0.5, label='pred')\n",
    "plt.legend()\n",
    "plt.show()"
   ]
  },
  {
   "cell_type": "code",
   "execution_count": null,
   "metadata": {},
   "outputs": [],
   "source": [
    "plt.bar(x1[0], x1[1], alpha=0.5, label='true')\n",
    "plt.bar(x2[0], x2[1], alpha=0.5, label='pred')\n",
    "plt.legend()\n",
    "plt.show()"
   ]
  },
  {
   "cell_type": "code",
   "execution_count": null,
   "metadata": {},
   "outputs": [],
   "source": [
    "(1 / (y_train.value_counts()/ len(y_train)))"
   ]
  },
  {
   "cell_type": "code",
   "execution_count": null,
   "metadata": {},
   "outputs": [],
   "source": [
    "test_pred[X_test.num_rev == 0] = y_test[X_test.num_rev == 0]"
   ]
  },
  {
   "cell_type": "code",
   "execution_count": null,
   "metadata": {},
   "outputs": [],
   "source": [
    "train_inds = (X_train.num_rev < 30) & (X_train.num_rev > 0)\n",
    "test_inds = (X_test.num_rev < 30) & (X_test.num_rev > 0)\n",
    "\n",
    "print(\"train score: \", f1_score(y_train[train_inds], train_pred[train_inds], average='macro'))\n",
    "print('test score: ', f1_score(y_test[test_inds], test_pred[test_inds], average='macro'))"
   ]
  },
  {
   "cell_type": "code",
   "execution_count": null,
   "metadata": {},
   "outputs": [],
   "source": [
    "for k in range(10):\n",
    "    print(f'test score for {k}: ', f1_score(y_test == k, test_pred == k))"
   ]
  },
  {
   "cell_type": "code",
   "execution_count": null,
   "metadata": {},
   "outputs": [],
   "source": [
    "for k in range(10):\n",
    "    print(f\"train score for {k}: \", f1_score(y_train == k, train_pred == k), \";    \"\n",
    "          f'test score for {k}: ', f1_score(y_test == k, test_pred == k))"
   ]
  },
  {
   "cell_type": "code",
   "execution_count": null,
   "metadata": {},
   "outputs": [],
   "source": [
    "scores = []\n",
    "for i in range(100):\n",
    "    inds = np.random.choice(range(len(y_test)), size=int(0.35 * len(y_test)))\n",
    "    scores.append(f1_score(y_test.values[inds], test_pred[inds], average='macro'))"
   ]
  },
  {
   "cell_type": "code",
   "execution_count": null,
   "metadata": {},
   "outputs": [],
   "source": [
    "plt.hist(scores, bins=20)"
   ]
  },
  {
   "cell_type": "code",
   "execution_count": 61,
   "metadata": {},
   "outputs": [
    {
     "data": {
      "text/plain": [
       "<matplotlib.axes._subplots.AxesSubplot at 0x7f0280c47090>"
      ]
     },
     "execution_count": 61,
     "metadata": {},
     "output_type": "execute_result"
    },
    {
     "data": {
      "image/png": "[encoded data removed]",
      "text/plain": [
       "<Figure size 1440x720 with 1 Axes>"
      ]
     },
     "metadata": {
      "needs_background": "light"
     },
     "output_type": "display_data"
    }
   ],
   "source": [
    "plt.figure(figsize=(20, 10))\n",
    "sns.barplot(x=clf.feature_importances_, y=X_train.columns)"
   ]
  },
  {
   "cell_type": "code",
   "execution_count": null,
   "metadata": {},
   "outputs": [],
   "source": [
    "X_train"
   ]
  },
  {
   "cell_type": "code",
   "execution_count": null,
   "metadata": {},
   "outputs": [],
   "source": [
    "clf.feature_importances_"
   ]
  },
  {
   "cell_type": "code",
   "execution_count": null,
   "metadata": {},
   "outputs": [],
   "source": [
    "scores = []\n",
    "lens = []\n",
    "for i in range(1000):\n",
    "    lens.append(sum(X_test.num_rev == i))\n",
    "    scores.append(f1_score(y_test[X_test.num_rev == i], \n",
    "                                                 test_pred[X_test.num_rev == i], average='macro'))"
   ]
  },
  {
   "cell_type": "code",
   "execution_count": null,
   "metadata": {},
   "outputs": [],
   "source": [
    "pd.DataFrame(np.array(scores)[np.array(lens) > 0]).rolling(4).mean().plot()"
   ]
  },
  {
   "cell_type": "code",
   "execution_count": null,
   "metadata": {},
   "outputs": [],
   "source": [
    "r = permutation_importance(clf, X_test, y_test, scoring='f1_macro', n_jobs=8, n_repeats=1)"
   ]
  },
  {
   "cell_type": "code",
   "execution_count": null,
   "metadata": {},
   "outputs": [],
   "source": [
    "plt.figure(figsize=(20, 10))\n",
    "sns.barplot(x=r['importances_mean'], y=X_train.columns)"
   ]
  },
  {
   "cell_type": "code",
   "execution_count": null,
   "metadata": {},
   "outputs": [],
   "source": [
    "X_test = target[(target.num == 0)]#.drop(columns=cols_to_drop)"
   ]
  },
  {
   "cell_type": "code",
   "execution_count": null,
   "metadata": {},
   "outputs": [],
   "source": [
    "X_test = pd.merge(X_test, temp, how='left', on='prev_target1')"
   ]
  },
  {
   "cell_type": "code",
   "execution_count": null,
   "metadata": {},
   "outputs": [],
   "source": [
    "X_test = X_test.drop(columns=cols_to_drop)"
   ]
  },
  {
   "cell_type": "code",
   "execution_count": null,
   "metadata": {},
   "outputs": [],
   "source": [
    "X_test.prev_target1= X_test.prev_target1.map(target.prev_target1.value_counts().to_dict())"
   ]
  },
  {
   "cell_type": "code",
   "execution_count": null,
   "metadata": {},
   "outputs": [],
   "source": [
    "test_pred = clf.predict(X_test)"
   ]
  },
  {
   "cell_type": "code",
   "execution_count": null,
   "metadata": {},
   "outputs": [],
   "source": [
    "preds = pd.DataFrame({\"preds\": test_pred, \n",
    "                      \"client_pin\": target[target.num == 0]['client_pin']})"
   ]
  },
  {
   "cell_type": "code",
   "execution_count": null,
   "metadata": {},
   "outputs": [],
   "source": [
    "preds.preds = enc.inverse_transform(preds.preds)"
   ]
  },
  {
   "cell_type": "code",
   "execution_count": null,
   "metadata": {},
   "outputs": [],
   "source": [
    "subm = pd.merge(sample_submission, preds, on='client_pin', how='inner')"
   ]
  },
  {
   "cell_type": "code",
   "execution_count": null,
   "metadata": {},
   "outputs": [],
   "source": [
    "subm = subm.drop(columns='prediction')"
   ]
  },
  {
   "cell_type": "code",
   "execution_count": null,
   "metadata": {},
   "outputs": [],
   "source": [
    "subm.columns = ['client_pin', 'prediction']"
   ]
  },
  {
   "cell_type": "code",
   "execution_count": null,
   "metadata": {},
   "outputs": [],
   "source": [
    "subm.to_csv(\"subm.csv\", index=False)"
   ]
  },
  {
   "cell_type": "code",
   "execution_count": null,
   "metadata": {},
   "outputs": [],
   "source": [
    "subm['prediction'].value_counts()"
   ]
  },
  {
   "cell_type": "code",
   "execution_count": null,
   "metadata": {},
   "outputs": [],
   "source": []
  }
 ],
 "metadata": {
  "kernelspec": {
   "display_name": "Python 3",
   "language": "python",
   "name": "python3"
  },
  "language_info": {
   "codemirror_mode": {
    "name": "ipython",
    "version": 3
   },
   "file_extension": ".py",
   "mimetype": "text/x-python",
   "name": "python",
   "nbconvert_exporter": "python",
   "pygments_lexer": "ipython3",
   "version": "3.7.6"
  }
 },
 "nbformat": 4,
 "nbformat_minor": 4
}
