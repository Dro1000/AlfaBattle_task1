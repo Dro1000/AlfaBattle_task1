{
 "cells": [
  {
   "cell_type": "markdown",
   "metadata": {},
   "source": [
    "### Здесь считаются признаки основанные на target таблице"
   ]
  },
  {
   "cell_type": "code",
   "execution_count": 1,
   "metadata": {},
   "outputs": [],
   "source": [
    "import os\n",
    "import pandas as pd\n",
    "import numpy as np\n",
    "import time\n",
    "\n",
    "from sklearn.preprocessing import LabelEncoder, OneHotEncoder\n"
   ]
  },
  {
   "cell_type": "code",
   "execution_count": 2,
   "metadata": {},
   "outputs": [],
   "source": [
    "start_time = time.time()"
   ]
  },
  {
   "cell_type": "code",
   "execution_count": 3,
   "metadata": {},
   "outputs": [],
   "source": [
    "files = ['Datasets/' + file for file in sorted(os.listdir('Datasets'))]"
   ]
  },
  {
   "cell_type": "code",
   "execution_count": 4,
   "metadata": {},
   "outputs": [],
   "source": [
    "target = pd.read_csv('alfabattle2_abattle_train_target.csv')\n",
    "sample_submission = pd.read_csv('alfabattle2_abattle_sample_prediction.csv')\n",
    "pred_ts = pd.read_csv('alfabattle2_prediction_session_timestamp.csv')"
   ]
  },
  {
   "cell_type": "code",
   "execution_count": 5,
   "metadata": {},
   "outputs": [],
   "source": [
    "to_pred = pd.merge(sample_submission, pred_ts)\n",
    "to_pred.columns = ['client_pin', 'multi_class_target', 'timestamp']\n",
    "to_pred['session_id'] = np.arange(len(to_pred))"
   ]
  },
  {
   "cell_type": "code",
   "execution_count": 6,
   "metadata": {},
   "outputs": [],
   "source": [
    "# Мержим тестовый файл с тренировочным, чтобы легче было собирать данные с предыдущих сессий\n",
    "target = pd.concat([target, to_pred])"
   ]
  },
  {
   "cell_type": "code",
   "execution_count": 7,
   "metadata": {},
   "outputs": [],
   "source": [
    "target.sort_values(['client_pin', 'timestamp'], inplace=True)\n",
    "target['timestamp'] = pd.to_datetime(target['timestamp'])\n"
   ]
  },
  {
   "cell_type": "code",
   "execution_count": 8,
   "metadata": {},
   "outputs": [],
   "source": [
    "enc = LabelEncoder()\n",
    "target['multi_class_target'] = enc.fit_transform(target['multi_class_target'])"
   ]
  },
  {
   "cell_type": "code",
   "execution_count": 9,
   "metadata": {},
   "outputs": [
    {
     "data": {
      "text/plain": [
       "array(['card2card_transfer', 'card_recharge', 'chat', 'credit_info',\n",
       "       'invest', 'main_screen', 'mobile_recharge', 'own_transfer',\n",
       "       'phone_money_transfer', 'statement'], dtype=object)"
      ]
     },
     "execution_count": 9,
     "metadata": {},
     "output_type": "execute_result"
    }
   ],
   "source": [
    "enc.classes_"
   ]
  },
  {
   "cell_type": "code",
   "execution_count": 10,
   "metadata": {},
   "outputs": [],
   "source": [
    "target_names = target['multi_class_target'].unique()"
   ]
  },
  {
   "cell_type": "code",
   "execution_count": 11,
   "metadata": {},
   "outputs": [],
   "source": [
    "# Количство сессий до и после текущей сессии\n",
    "\n",
    "target['num'] = target.groupby('client_pin')['timestamp'].transform(lambda x: np.arange(len(x))[::-1])\n",
    "target['num_rev'] = target.groupby('client_pin')['timestamp'].transform(lambda x: np.arange(len(x)))"
   ]
  },
  {
   "cell_type": "code",
   "execution_count": 12,
   "metadata": {},
   "outputs": [
    {
     "name": "stdout",
     "output_type": "stream",
     "text": [
      "9\n",
      "5\n",
      "6\n",
      "2\n",
      "4\n",
      "3\n",
      "1\n",
      "8\n",
      "0\n",
      "7\n"
     ]
    }
   ],
   "source": [
    "# Количество сессий и времени, прощедших с последней сессии с соответсвующим таргетом\n",
    "\n",
    "for name in target_names:\n",
    "    print(name)\n",
    "    name = str(name)\n",
    "    target.loc[:, 'last_' + name] = target['timestamp']\n",
    "    target.loc[target['multi_class_target'] != int(name), 'last_' + name] = None\n",
    "    \n",
    "    target['last_' + name] = target.groupby('client_pin')['last_' + name].fillna(method='ffill')\n",
    "    target['last_' + name] = target.groupby('client_pin')['last_' + name].shift()\n",
    "    \n",
    "    target['last_' + name] = target['timestamp'] - target['last_' + name]\n",
    "    target['last_' + name] = target['last_' + name].dt.total_seconds() / 3600 / 24\n",
    "    \n",
    "    target.loc[:, 'last_n_' + name] = np.arange(len(target))\n",
    "    target.loc[target['multi_class_target'] != int(name), 'last_n_' + name] = None\n",
    "    \n",
    "    target['last_n_' + name] = target.groupby('client_pin')['last_n_' + name].fillna(method='ffill')\n",
    "    target['last_n_' + name] = target.groupby('client_pin')['last_n_' + name].shift()\n",
    "    target['last_n_' + name] = np.arange(len(target)) - target['last_n_' + name]"
   ]
  },
  {
   "cell_type": "code",
   "execution_count": 13,
   "metadata": {},
   "outputs": [],
   "source": [
    "# 10 предыдущих таргетов\n",
    "for i in range(1, 10):\n",
    "    target['prev_target' + str(i)] = target.groupby('client_pin')['multi_class_target'].shift(i)\n"
   ]
  },
  {
   "cell_type": "code",
   "execution_count": 14,
   "metadata": {},
   "outputs": [],
   "source": [
    "# предыдущая сессия для каждого пользователя\n",
    "target['prev_session'] = target.groupby('client_pin')['session_id'].transform('shift')"
   ]
  },
  {
   "cell_type": "code",
   "execution_count": 15,
   "metadata": {},
   "outputs": [],
   "source": [
    "# Временные признаки\n",
    "target['weekday'] = target.timestamp.dt.weekday\n",
    "target['hour'] = target.timestamp.dt.hour\n",
    "target['day'] = target.timestamp.dt.day"
   ]
  },
  {
   "cell_type": "code",
   "execution_count": 16,
   "metadata": {},
   "outputs": [],
   "source": [
    "# признаки, основанные на скользящих суммах from_last признаков\n",
    "\n",
    "target['from_last'] = target.groupby('client_pin')['timestamp'].diff().dt.total_seconds() / 3600\n",
    "\n",
    "for i in range(2, 10):\n",
    "    target['from_last' + str(i)] = target.groupby('client_pin')['from_last'].transform(\n",
    "        lambda x: x.rolling(i).sum())"
   ]
  },
  {
   "cell_type": "code",
   "execution_count": 17,
   "metadata": {},
   "outputs": [
    {
     "data": {
      "text/plain": [
       "OneHotEncoder(categories='auto', drop=None, dtype=<class 'numpy.float64'>,\n",
       "              handle_unknown='error', sparse=True)"
      ]
     },
     "execution_count": 17,
     "metadata": {},
     "output_type": "execute_result"
    }
   ],
   "source": [
    "# OHE енкодер\n",
    "\n",
    "ohe = OneHotEncoder()\n",
    "ohe.fit(target['prev_target1'].fillna(5).values.reshape(-1, 1))"
   ]
  },
  {
   "cell_type": "code",
   "execution_count": 18,
   "metadata": {},
   "outputs": [],
   "source": [
    "# Добавляем ohe признаки в основную таблицу\n",
    "\n",
    "target = pd.concat([target, pd.DataFrame(\n",
    "            ohe.fit_transform(target['prev_target1'].fillna(5).values.reshape(-1, 1)).toarray(),\n",
    "            columns=['ohe_' + str(i) for i in range(10)], index=target.index)], axis=1)"
   ]
  },
  {
   "cell_type": "markdown",
   "metadata": {},
   "source": [
    " Далее считаются кумулятивные суммы ohe признаков с разными параметрами"
   ]
  },
  {
   "cell_type": "code",
   "execution_count": 19,
   "metadata": {},
   "outputs": [],
   "source": [
    "temp = target.groupby('client_pin')[['ohe_' + str(i) for i in range(10)]].cumsum()\n",
    "temp.columns = ['cs_' + str(i) for i in range(10)]\n",
    "\n",
    "temp = temp.div(temp.sum(axis=1), axis=0)\n",
    "\n",
    "target = pd.concat([target, temp], axis=1)\n",
    "del temp"
   ]
  },
  {
   "cell_type": "code",
   "execution_count": 20,
   "metadata": {},
   "outputs": [],
   "source": [
    "temp = target.groupby('client_pin')[['ohe_' + str(i) for i in range(10)]].apply(\n",
    "    lambda x: x.ewm(alpha=0.05).mean())\n",
    "temp.columns = ['cs_ewm_0.05' + str(i) for i in range(10)]\n",
    "\n",
    "\n",
    "target = pd.concat([target, temp], axis=1)\n",
    "del temp"
   ]
  },
  {
   "cell_type": "code",
   "execution_count": 21,
   "metadata": {},
   "outputs": [],
   "source": [
    "temp = target.groupby('client_pin')[['ohe_' + str(i) for i in range(10)]].apply(\n",
    "    lambda x: x.ewm(alpha=0.1).mean())\n",
    "temp.columns = ['cs_ewm_0.1' + str(i) for i in range(10)]\n",
    "\n",
    "\n",
    "target = pd.concat([target, temp], axis=1)\n",
    "del temp"
   ]
  },
  {
   "cell_type": "code",
   "execution_count": 22,
   "metadata": {},
   "outputs": [],
   "source": [
    "temp = target.groupby('client_pin')[['ohe_' + str(i) for i in range(10)]].apply(\n",
    "    lambda x: x.ewm(alpha=0.3).mean())\n",
    "temp.columns = ['cs_ewm_0.3' + str(i) for i in range(10)]\n",
    "\n",
    "\n",
    "target = pd.concat([target, temp], axis=1)\n",
    "del temp"
   ]
  },
  {
   "cell_type": "code",
   "execution_count": 23,
   "metadata": {},
   "outputs": [],
   "source": [
    "k = 2"
   ]
  },
  {
   "cell_type": "code",
   "execution_count": 24,
   "metadata": {},
   "outputs": [],
   "source": [
    "# Считаем количство случаев, когда признак Х следует за признаком Y\n",
    "\n",
    "temp = pd.pivot_table(target[(target.num > k + 7)], index='prev_target1', \n",
    "                      columns='multi_class_target', values='timestamp', aggfunc='count')"
   ]
  },
  {
   "cell_type": "code",
   "execution_count": 25,
   "metadata": {},
   "outputs": [],
   "source": [
    "target = pd.merge(target, temp, how='left', on='prev_target1')"
   ]
  },
  {
   "cell_type": "code",
   "execution_count": 26,
   "metadata": {},
   "outputs": [],
   "source": [
    "target.to_csv('data_for_model.csv', index=False)"
   ]
  },
  {
   "cell_type": "code",
   "execution_count": 29,
   "metadata": {},
   "outputs": [
    {
     "name": "stdout",
     "output_type": "stream",
     "text": [
      "The full process takes 0.4741194432973862 minutes\n"
     ]
    }
   ],
   "source": [
    "print(f'The full process takes {(time.time() - start_time) / 60 / 60} minutes')"
   ]
  }
 ],
 "metadata": {
  "kernelspec": {
   "display_name": "Python 3",
   "language": "python",
   "name": "python3"
  },
  "language_info": {
   "codemirror_mode": {
    "name": "ipython",
    "version": 3
   },
   "file_extension": ".py",
   "mimetype": "text/x-python",
   "name": "python",
   "nbconvert_exporter": "python",
   "pygments_lexer": "ipython3",
   "version": "3.7.6"
  }
 },
 "nbformat": 4,
 "nbformat_minor": 4
}
