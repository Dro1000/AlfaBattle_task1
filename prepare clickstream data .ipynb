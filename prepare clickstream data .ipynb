{
 "cells": [
  {
   "cell_type": "markdown",
   "metadata": {},
   "source": [
    "### В этом ноутбуке готовятся данные по паркетам\n"
   ]
  },
  {
   "cell_type": "code",
   "execution_count": 19,
   "metadata": {},
   "outputs": [],
   "source": [
    "import os\n",
    "import pandas as pd\n",
    "import numpy as np\n",
    "\n",
    "import time\n",
    "import gc"
   ]
  },
  {
   "cell_type": "code",
   "execution_count": 5,
   "metadata": {},
   "outputs": [],
   "source": [
    "files = ['clickstream/' + file for file in sorted(os.listdir('clickstream'))]"
   ]
  },
  {
   "cell_type": "code",
   "execution_count": 6,
   "metadata": {},
   "outputs": [],
   "source": [
    "pred_ts = pd.read_csv('alfabattle2_prediction_session_timestamp.csv')\n",
    "pred_ts['client'] = pred_ts['client_pin']\n",
    "pred_ts.drop(columns='client_pin', inplace=True)\n",
    "pred_ts['session_id'] = np.arange(len(pred_ts))\n",
    "pred_ts['timestamp'] = pd.to_datetime(pred_ts['timestamp'])"
   ]
  },
  {
   "cell_type": "code",
   "execution_count": 7,
   "metadata": {},
   "outputs": [],
   "source": [
    "\n",
    "event_cat_cols = ['Accounts Cards', 'Advice', 'All Payments', 'Bank_Offer',\n",
    "       'Bottom Navigation', 'Card To Card Transfer', 'Chat',\n",
    "       'ClientPhoneTransfer', 'Credit Info', 'Credit Recharge', 'Investments',\n",
    "       'Main Screen', 'Operations', 'Phone Bank Picker', 'Push', 'Recharge', 'ResultScreen',\n",
    "       'SingleStatement', 'Widget Dashboard']\n",
    "\n",
    "app_id_cols = ['mobile']\n",
    "\n",
    "event_type_cols = ['pv', 'se', 'sv']\n",
    "\n",
    "connection_cols = ['mobile', 'wifi']"
   ]
  },
  {
   "cell_type": "code",
   "execution_count": 8,
   "metadata": {},
   "outputs": [],
   "source": [
    "# Собираем опорные таблицы\n",
    "\n",
    "def collect_pivot_tables(data):\n",
    "    '''\n",
    "    Собираем опорные таблицы по колонкам: event_category, application_id, event_type, net_connection_type\n",
    "    '''\n",
    "    \n",
    "    ec_pivot = pd.pivot_table(data, columns='event_category', \n",
    "                      index=['session_id'], \n",
    "                      values='timestamp', aggfunc='count')[event_cat_cols]\n",
    "    \n",
    "    #add_last(data, ec_pivot)\n",
    "    \n",
    "    app_pivot = pd.pivot_table(data, columns='application_id', \n",
    "                      index=['session_id'], \n",
    "                      values='timestamp', aggfunc='count')[app_id_cols]\n",
    "    \n",
    "    event_type_pivot = pd.pivot_table(data, columns='event_type', \n",
    "                          index=['session_id'], \n",
    "                          values='timestamp', aggfunc='count')[event_type_cols]\n",
    "    \n",
    "    connection_pivot = pd.pivot_table(data, columns='net_connection_type', \n",
    "                          index=['session_id'], \n",
    "                          values='timestamp', aggfunc='count')[connection_cols]\n",
    "    \n",
    "    pivots = pd.concat([ec_pivot, app_pivot, event_type_pivot, connection_pivot], axis=1).reset_index()\n",
    "    pivots['session_id'] = pivots['index']\n",
    "    \n",
    "    return pivots.drop(columns='index').fillna(0)"
   ]
  },
  {
   "cell_type": "code",
   "execution_count": 9,
   "metadata": {},
   "outputs": [],
   "source": [
    "# Собираем статистики по сессиям\n",
    "\n",
    "def collect_sessions_stats(data):\n",
    "    '''\n",
    "    Собираем статистики по сессиям: продолжительность сессии, количество действий в сессии \n",
    "    и кумулятивные средние от этих средних\n",
    "    '''\n",
    "    \n",
    "    stats = data.groupby(['session_id', 'client'])['timestamp'].agg(['first', 'last', 'count'])\n",
    "    stats['duration'] = (stats['last'] - stats['first']).dt.total_seconds()\n",
    "    \n",
    "    stats.sort_values(['client', 'last'], inplace=True)\n",
    "    \n",
    "    stats['stats_num'] = stats.groupby('client')['first'].transform(lambda x: np.arange(len(x)))\n",
    "    stats['cum_duration'] = stats.groupby('client')['duration'].transform(lambda x: x.expanding().mean())                                                                     \n",
    "\n",
    "    return stats.drop(columns=['first', 'last'])"
   ]
  },
  {
   "cell_type": "code",
   "execution_count": 10,
   "metadata": {},
   "outputs": [],
   "source": [
    "cols_to_drop = ['session_id_x']"
   ]
  },
  {
   "cell_type": "code",
   "execution_count": 16,
   "metadata": {},
   "outputs": [],
   "source": [
    "if not os.path.exists('Datasets'):\n",
    "    os.mkdir('Datasets')"
   ]
  },
  {
   "cell_type": "code",
   "execution_count": null,
   "metadata": {},
   "outputs": [
    {
     "name": "stdout",
     "output_type": "stream",
     "text": [
      "clickstream/part-00000.parquet\n",
      "clickstream/part-00001.parquet\n",
      "clickstream/part-00002.parquet\n",
      "clickstream/part-00003.parquet\n",
      "clickstream/part-00004.parquet\n"
     ]
    }
   ],
   "source": [
    "# Готовим данные по сессиям\n",
    "\n",
    "start_time = time.time()\n",
    "\n",
    "for_test = []\n",
    "\n",
    "for file in files:\n",
    "    data = pd.read_parquet(file)\n",
    "    data = pd.concat([data, pred_ts[pred_ts.client.isin(data['client'].unique())]])\n",
    "    \n",
    "    data.sort_values(['client', 'timestamp'], inplace=True)\n",
    "    data['diff_'] = data.groupby('client')['timestamp'].last().diff().dt.total_seconds() / 60 / 60\n",
    "    \n",
    "    temp = data.groupby(['client', 'session_id'])[['timestamp', 'timezone']].last().reset_index()\n",
    "    temp.sort_values(['client', 'timestamp'], inplace=True)\n",
    "    temp['prev_session1'] = temp.groupby('client')['session_id'].shift()\n",
    "    \n",
    "    temp1 = collect_pivot_tables(data)\n",
    "    \n",
    "    session_stats = collect_sessions_stats(data)\n",
    "    temp1 = pd.merge(session_stats, temp1, how='left', on='session_id')\n",
    "    \n",
    "    del session_stats, data\n",
    "    \n",
    "    temp = pd.merge(temp1, temp, how='left', left_on='session_id', right_on='prev_session1')\n",
    "    temp.drop(columns=cols_to_drop).to_csv('Datasets/' + file.split('/')[1], index=False)\n",
    "    \n",
    "    del temp, temp1\n",
    "    gc.collect() \n",
    "        \n",
    "    print(file)\n",
    "    \n",
    "finish_time = time.time()\n",
    "print(\"\\n\")\n",
    "print(f'processing takes {(finish_time - start_time) / 60} minutes')"
   ]
  }
 ],
 "metadata": {
  "kernelspec": {
   "display_name": "Python 3",
   "language": "python",
   "name": "python3"
  },
  "language_info": {
   "codemirror_mode": {
    "name": "ipython",
    "version": 3
   },
   "file_extension": ".py",
   "mimetype": "text/x-python",
   "name": "python",
   "nbconvert_exporter": "python",
   "pygments_lexer": "ipython3",
   "version": "3.7.6"
  }
 },
 "nbformat": 4,
 "nbformat_minor": 4
}
